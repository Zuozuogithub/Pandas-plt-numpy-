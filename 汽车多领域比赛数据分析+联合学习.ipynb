{
 "cells": [
  {
   "cell_type": "markdown",
   "id": "5a5eb467-a31f-467a-b82b-52d1538e10fa",
   "metadata": {
    "execution": {
     "iopub.execute_input": "2022-06-26T14:57:23.123160Z",
     "iopub.status.busy": "2022-06-26T14:57:23.122153Z",
     "iopub.status.idle": "2022-06-26T14:57:23.128682Z",
     "shell.execute_reply": "2022-06-26T14:57:23.128022Z",
     "shell.execute_reply.started": "2022-06-26T14:57:23.123124Z"
    },
    "tags": []
   },
   "source": [
    "# 赛题介绍\n",
    "\n",
    "汽车领域多语种迁移学习挑战赛\n",
    "\n",
    "比赛链接:[点击直达](https://challenge.xfyun.cn/topic/info?type=car-multilingual&ch=ds22-dw-zmt07)\n",
    "\n",
    "举办方：科大讯飞股份有限公司\n",
    "\n",
    "## 赛事背景\n",
    "国内车企为提升产品竞争力、更好走向海外市场，提出了海外市场智能交互的需求。但世界各国在“数据安全”上有着严格法律约束，要做好海外智能化交互，本土企业面临的最大挑战是数据缺少。本赛题要求选手通过NLP相关人工智能算法来实现汽车领域多语种迁移学习。\n",
    "\n",
    "## 赛事任务\n",
    "本次迁移学习任务中，讯飞智能汽车BU将提供较多的车内人机交互中文语料，以及少量的中英、中日、中阿平行语料作为训练集，参赛选手通过提供的数据构建模型，进行意图分类及关键信息抽取任务，最终使用英语、日语、阿拉伯语进行测试评判。\n",
    "\n",
    "1. 初赛\n",
    "\n",
    "训练集：中文语料30000条，中英平行语料1000条，中日平行语料1000条\n",
    "\n",
    "测试集A：英文语料500条，日文语料500条\n",
    "\n",
    "测试集B：英文语料500条，日文语料500条\n",
    "\n",
    "2. 复赛\n",
    "\n",
    "训练集：中文语料同初赛，中阿拉伯平行语料1000条\n",
    "\n",
    "测试集A：阿拉伯文语料500条\n",
    "\n",
    "测试集B：阿拉伯文语料500条\n",
    "\n",
    "## 数据说明\n",
    "本次比赛为参赛选手提供三类车内交互功能语料，其中包括命令控制类、导航类、音乐类。较多的中文语料和较少的多语种平行语料均带有意图分类和关键信息，选手需充分利用所提供数据，在英、日、阿拉伯语料的意图分类和关键信息抽取任务上取得较好效果。数据所含标签种类及取值类型如下表所示。\n",
    "\n",
    "|变量|数值格式|解释|\n",
    "|---|--- |---|\n",
    "|intent|数值格式|解释|\n",
    "|intent\t|string\t|整句意图标签|\n",
    "|device|string\t|操作设备名称标签|\n",
    "|mode|string\t|操作设备模式标签|\n",
    "|offset|string\t|操作设备调节量标签|\n",
    "|endloc\t|string\t|目的地标签|\n",
    "|landmark|string|周边搜索参照标签|\n",
    "|singer\t|string\t|歌手|\n",
    "|song\t|string\t|歌曲|\n",
    "\n",
    "## 评估指标\n",
    "本模型依据提交的结果文件，采用accuracy进行评价。\n",
    "\n",
    "(1)意图分类accuracy = 意图正确数目 / 总数据量\n",
    "\n",
    "(2)关键信息抽取accuracy = 关键信息完全正确数目 / 总数据量\n",
    "\n",
    "注：\n",
    "\n",
    "每条数据的关键信息多抽或者少抽均算错误，最终得分取意图分类和关键信息抽取的平均值；\n",
    "\n",
    "预测过程中不得进行语种转换，必须使用测试集提供的语种直接进行意图分类和关键信息抽取任务。\n",
    "\n",
    "3.评测及排行\n",
    "1、本赛题均提供下载数据，选手在本地进行算法调试，在比赛页面提交结果。\n",
    "\n",
    "2、每支团队每天最多提交3次。\n",
    "\n",
    "3、排行按照得分从高到低排序，排行榜将选择团队的历史最优成绩进行排名。\n",
    "\n",
    "## 作品提交要求\n",
    "1、文件格式：按照excel格式提交\n",
    "\n",
    "2、文件大小：无要求\n",
    "\n",
    "3、提交次数限制：每支队伍每天最多3次\n",
    "\n",
    "4、文件详细说明：\n",
    "\n",
    "1) 以excel格式提交，编码为UTF-8，第一行为表头；\n",
    "\n",
    "2) 具体格式见提交示例，其中初赛包含两个sheet，复赛包含一个sheet\n",
    "\n",
    "5、不需要上传其他文件\n",
    "\n",
    "## 赛程规则\n",
    "本赛题实行二轮赛制\n",
    "\n",
    "初赛 6月24日——7月24日\n",
    "1、初赛一阶段：6月24日到7月22日。\n",
    "\n",
    "初赛二阶段：7月23日到7月24日。系统将在7月23日00：00更换测试数据，参赛队伍需要再次下载数据\n",
    "\n",
    "2、该赛题将第二阶段成绩以参赛团队在规定时间段内的最优成绩为准\n",
    "\n",
    "3、第二阶段结果提交截止日期为7月24日17：00。\n",
    "\n",
    "复赛 7月27日——8月27日\n",
    "1、初赛二阶段排名前20%的团队晋级复赛，大赛官网将公示团队信息。选手通过大赛官网下载新增的训练集和开发集，本地调试算法，在线提交结果。\n",
    "\n",
    "2、复赛一阶段：7月27日到8月25日。\n",
    "\n",
    "复赛二阶段：8月26日到8月27日。系统将在8月26日00：00更换测试数据，参赛队伍需要再次下载数据\n",
    "\n",
    "2、该赛题将第二阶段成绩以参赛团队在规定时间段内的最优成绩为准\n",
    "\n",
    "3、第二阶段结果提交截止日期为8月27日17：00。"
   ]
  },
  {
   "cell_type": "markdown",
   "id": "47834c44-10c1-4e8a-af9f-5dd32387aa31",
   "metadata": {
    "execution": {
     "iopub.execute_input": "2022-06-26T15:20:47.600863Z",
     "iopub.status.busy": "2022-06-26T15:20:47.600441Z",
     "iopub.status.idle": "2022-06-26T15:20:47.607432Z",
     "shell.execute_reply": "2022-06-26T15:20:47.606289Z",
     "shell.execute_reply.started": "2022-06-26T15:20:47.600832Z"
    },
    "tags": []
   },
   "source": [
    "# 赛题思路\n",
    "本赛题存在两个子任务，一是意图识别任务（文本分类），二是槽值识别任务（命名实体识别），在数据上仅提供少量的中文平行语料和大量中文语料，存在低资源、跨语言、多任务、类别不平衡等特点。\n",
    "\n",
    "思路上可以采用两种模型分别解决两个子任务，也可以使用单一模型联合解决两个子任务，模型侯建安装文本分类和命名实体识别的方法进行搭建。\n",
    "\n",
    "本文Baseline采用后者方案，单一模型的选取上使用多语言预训练模型联合解决两个子任务。\n",
    "\n",
    "在多语言预训练模型上可以选择常用的`bert-base-multilingual-uncased`和`bert-base-multilingual-cased`等多语言预训练模型。\n",
    "\n",
    "\n",
    "## Baseline效果\n",
    "\n",
    "|Model|线下|线上|\n",
    "|---|---|---|\n",
    "|bert-base-multilingual-cased|0.95771|0.74961|\n",
    "|bert-base-multilingual-uncased|0.96269|0.75622|\n",
    "\n",
    "![](https://ai-studio-static-online.cdn.bcebos.com/b6bdd2997b52401cb07126626b3d71877d21b6644a2f4162be98d92816873a53)\n",
    "\n",
    "\n",
    "## 后续优化推荐\n",
    "\n",
    "- 使用FGM、PGD等对抗训练\n",
    "- 更换损失函数，使用Focal loss / Dice loss等尝试缓解类别不平衡的影响\n",
    "- 使用EMA提升模型表现\n",
    "- 使用CRF提升slot识别效果\n",
    "- 构建平行预料和中文语料之间的联系\n"
   ]
  },
  {
   "cell_type": "code",
   "execution_count": 1,
   "id": "dcb4e97e-f1ba-492f-abb3-ec19a2314b9b",
   "metadata": {
    "execution": {
     "iopub.execute_input": "2022-07-05T03:22:29.934809Z",
     "iopub.status.busy": "2022-07-05T03:22:29.933604Z",
     "iopub.status.idle": "2022-07-05T03:22:59.448141Z",
     "shell.execute_reply": "2022-07-05T03:22:59.447159Z",
     "shell.execute_reply.started": "2022-07-05T03:22:29.934765Z"
    },
    "scrolled": false,
    "tags": []
   },
   "outputs": [
    {
     "name": "stdout",
     "output_type": "stream",
     "text": [
      "Looking in indexes: https://pypi.tuna.tsinghua.edu.cn/simple\n",
      "Collecting paddlenlp==2.3.3\n",
      "  Downloading https://pypi.tuna.tsinghua.edu.cn/packages/7a/31/162931501c562c5db43c366643fd0d634aa41f85f6165885cd073d1721a2/paddlenlp-2.3.3-py3-none-any.whl (1.4 MB)\n",
      "\u001b[2K     \u001b[90m━━━━━━━━━━━━━━━━━━━━━━━━━━━━━━━━━━━━━━━━\u001b[0m \u001b[32m1.4/1.4 MB\u001b[0m \u001b[31m2.3 MB/s\u001b[0m eta \u001b[36m0:00:00\u001b[0m00:01\u001b[0m00:01\u001b[0m\n",
      "\u001b[?25hCollecting datasets>=2.0.0\n",
      "  Downloading https://pypi.tuna.tsinghua.edu.cn/packages/98/29/f381f8a633fed2c4f41c191498c3bc43d91a8e44c5202a8b0b2bd8b1acf3/datasets-2.3.2-py3-none-any.whl (362 kB)\n",
      "\u001b[2K     \u001b[90m━━━━━━━━━━━━━━━━━━━━━━━━━━━━━━━━━━━━━━━\u001b[0m \u001b[32m362.3/362.3 kB\u001b[0m \u001b[31m3.3 MB/s\u001b[0m eta \u001b[36m0:00:00\u001b[0m00:01\u001b[0m00:01\u001b[0m\n",
      "\u001b[?25hRequirement already satisfied: jieba in /opt/conda/envs/python35-paddle120-env/lib/python3.7/site-packages (from paddlenlp==2.3.3) (0.42.1)\n",
      "Requirement already satisfied: sentencepiece in /opt/conda/envs/python35-paddle120-env/lib/python3.7/site-packages (from paddlenlp==2.3.3) (0.1.96)\n",
      "Requirement already satisfied: protobuf<=3.20.0,>=3.1.0 in /opt/conda/envs/python35-paddle120-env/lib/python3.7/site-packages (from paddlenlp==2.3.3) (3.14.0)\n",
      "Collecting paddle2onnx\n",
      "  Downloading https://pypi.tuna.tsinghua.edu.cn/packages/be/62/bd17eeccd7cfd3601ae8607371673046158d67f48d095c3055edac2e5250/paddle2onnx-0.9.8-cp37-cp37m-manylinux_2_12_x86_64.manylinux2010_x86_64.whl (2.9 MB)\n",
      "\u001b[2K     \u001b[90m━━━━━━━━━━━━━━━━━━━━━━━━━━━━━━━━━━━━━━━━\u001b[0m \u001b[32m2.9/2.9 MB\u001b[0m \u001b[31m1.7 MB/s\u001b[0m eta \u001b[36m0:00:00\u001b[0m00:01\u001b[0m00:01\u001b[0m\n",
      "\u001b[?25hRequirement already satisfied: seqeval in /opt/conda/envs/python35-paddle120-env/lib/python3.7/site-packages (from paddlenlp==2.3.3) (1.2.2)\n",
      "Requirement already satisfied: multiprocess<=0.70.12.2 in /opt/conda/envs/python35-paddle120-env/lib/python3.7/site-packages (from paddlenlp==2.3.3) (0.70.11.1)\n",
      "Requirement already satisfied: tqdm in /opt/conda/envs/python35-paddle120-env/lib/python3.7/site-packages (from paddlenlp==2.3.3) (4.27.0)\n",
      "Requirement already satisfied: paddlefsl in /opt/conda/envs/python35-paddle120-env/lib/python3.7/site-packages (from paddlenlp==2.3.3) (1.0.0)\n",
      "Requirement already satisfied: colorlog in /opt/conda/envs/python35-paddle120-env/lib/python3.7/site-packages (from paddlenlp==2.3.3) (4.1.0)\n",
      "Requirement already satisfied: dill<0.3.5 in /opt/conda/envs/python35-paddle120-env/lib/python3.7/site-packages (from paddlenlp==2.3.3) (0.3.3)\n",
      "Requirement already satisfied: colorama in /opt/conda/envs/python35-paddle120-env/lib/python3.7/site-packages (from paddlenlp==2.3.3) (0.4.4)\n",
      "Requirement already satisfied: requests>=2.19.0 in /opt/conda/envs/python35-paddle120-env/lib/python3.7/site-packages (from datasets>=2.0.0->paddlenlp==2.3.3) (2.24.0)\n",
      "Collecting responses<0.19\n",
      "  Downloading https://pypi.tuna.tsinghua.edu.cn/packages/79/f3/2b3a6dc5986303b3dd1bbbcf482022acb2583c428cd23f0b6d37b1a1a519/responses-0.18.0-py3-none-any.whl (38 kB)\n",
      "Requirement already satisfied: importlib-metadata in /opt/conda/envs/python35-paddle120-env/lib/python3.7/site-packages (from datasets>=2.0.0->paddlenlp==2.3.3) (4.2.0)\n",
      "Requirement already satisfied: packaging in /opt/conda/envs/python35-paddle120-env/lib/python3.7/site-packages (from datasets>=2.0.0->paddlenlp==2.3.3) (21.3)\n",
      "Collecting pyarrow>=6.0.0\n",
      "  Downloading https://pypi.tuna.tsinghua.edu.cn/packages/af/7d/94064bf0b44cf9e3cf67bdb90735f01d1d53a3973f8d59da99dc9ed58303/pyarrow-8.0.0-cp37-cp37m-manylinux_2_17_x86_64.manylinux2014_x86_64.whl (29.3 MB)\n",
      "\u001b[2K     \u001b[90m━━━━━━━━━━━━━━━━━━━━━━━━━━━━━━━━━━━━━━━━\u001b[0m \u001b[32m29.3/29.3 MB\u001b[0m \u001b[31m2.4 MB/s\u001b[0m eta \u001b[36m0:00:00\u001b[0m00:01\u001b[0m00:01\u001b[0m\n",
      "\u001b[?25hRequirement already satisfied: numpy>=1.17 in /opt/conda/envs/python35-paddle120-env/lib/python3.7/site-packages (from datasets>=2.0.0->paddlenlp==2.3.3) (1.19.5)\n",
      "Collecting aiohttp\n",
      "  Downloading https://pypi.tuna.tsinghua.edu.cn/packages/dd/fe/80c594d62a7ff07730fd2cfc3a058498087436d8c938243e0610d1928f0e/aiohttp-3.8.1-cp37-cp37m-manylinux_2_5_x86_64.manylinux1_x86_64.manylinux_2_12_x86_64.manylinux2010_x86_64.whl (1.1 MB)\n",
      "\u001b[2K     \u001b[90m━━━━━━━━━━━━━━━━━━━━━━━━━━━━━━━━━━━━━━━━\u001b[0m \u001b[32m1.1/1.1 MB\u001b[0m \u001b[31m2.4 MB/s\u001b[0m eta \u001b[36m0:00:00\u001b[0m00:01\u001b[0m00:01\u001b[0m\n",
      "\u001b[?25hCollecting huggingface-hub<1.0.0,>=0.1.0\n",
      "  Downloading https://pypi.tuna.tsinghua.edu.cn/packages/d8/2c/9af8451ab780598e3b26a84d4f0e3844841456657401eb6843fdb622bb41/huggingface_hub-0.8.1-py3-none-any.whl (101 kB)\n",
      "\u001b[2K     \u001b[90m━━━━━━━━━━━━━━━━━━━━━━━━━━━━━━━━━━━━━━━\u001b[0m \u001b[32m101.5/101.5 kB\u001b[0m \u001b[31m1.3 MB/s\u001b[0m eta \u001b[36m0:00:00\u001b[0ma \u001b[36m0:00:01\u001b[0m\n",
      "\u001b[?25hCollecting fsspec[http]>=2021.05.0\n",
      "  Downloading https://pypi.tuna.tsinghua.edu.cn/packages/bd/4c/166d788feff5c739b833342945bbba406581095fb6c4a056113fae646b5c/fsspec-2022.5.0-py3-none-any.whl (140 kB)\n",
      "\u001b[2K     \u001b[90m━━━━━━━━━━━━━━━━━━━━━━━━━━━━━━━━━━━━━━━\u001b[0m \u001b[32m140.6/140.6 kB\u001b[0m \u001b[31m2.5 MB/s\u001b[0m eta \u001b[36m0:00:00\u001b[0ma \u001b[36m0:00:01\u001b[0m\n",
      "\u001b[?25hRequirement already satisfied: pandas in /opt/conda/envs/python35-paddle120-env/lib/python3.7/site-packages (from datasets>=2.0.0->paddlenlp==2.3.3) (1.1.5)\n",
      "Collecting tqdm\n",
      "  Downloading https://pypi.tuna.tsinghua.edu.cn/packages/8a/c4/d15f1e627fff25443ded77ea70a7b5532d6371498f9285d44d62587e209c/tqdm-4.64.0-py2.py3-none-any.whl (78 kB)\n",
      "\u001b[2K     \u001b[90m━━━━━━━━━━━━━━━━━━━━━━━━━━━━━━━━━━━━━━━\u001b[0m \u001b[32m78.4/78.4 kB\u001b[0m \u001b[31m271.3 kB/s\u001b[0m eta \u001b[36m0:00:00\u001b[0m \u001b[36m0:00:01\u001b[0m\n",
      "\u001b[?25hCollecting xxhash\n",
      "  Downloading https://pypi.tuna.tsinghua.edu.cn/packages/ef/ac/0eb796cf052c392f1ae586452c89ca66164f7d4f655b039ca3d06e2291af/xxhash-3.0.0-cp37-cp37m-manylinux_2_17_x86_64.manylinux2014_x86_64.whl (212 kB)\n",
      "\u001b[2K     \u001b[90m━━━━━━━━━━━━━━━━━━━━━━━━━━━━━━━━━━━━━━━\u001b[0m \u001b[32m212.2/212.2 kB\u001b[0m \u001b[31m1.6 MB/s\u001b[0m eta \u001b[36m0:00:00\u001b[0ma \u001b[36m0:00:01\u001b[0m\n",
      "\u001b[?25hRequirement already satisfied: six>=1.9 in /opt/conda/envs/python35-paddle120-env/lib/python3.7/site-packages (from protobuf<=3.20.0,>=3.1.0->paddlenlp==2.3.3) (1.16.0)\n",
      "Collecting paddlefsl\n",
      "  Downloading https://pypi.tuna.tsinghua.edu.cn/packages/fb/4a/25d1959a8f1fe5ee400f32fc9fc8b56d4fd6fc25315e23c0171f6e705e2a/paddlefsl-1.1.0-py3-none-any.whl (101 kB)\n",
      "\u001b[2K     \u001b[90m━━━━━━━━━━━━━━━━━━━━━━━━━━━━━━━━━━━━━\u001b[0m \u001b[32m101.0/101.0 kB\u001b[0m \u001b[31m170.0 kB/s\u001b[0m eta \u001b[36m0:00:00\u001b[0ma \u001b[36m0:00:01\u001b[0m\n",
      "\u001b[?25hRequirement already satisfied: scikit-learn>=0.21.3 in /opt/conda/envs/python35-paddle120-env/lib/python3.7/site-packages (from seqeval->paddlenlp==2.3.3) (0.24.2)\n",
      "Requirement already satisfied: filelock in /opt/conda/envs/python35-paddle120-env/lib/python3.7/site-packages (from huggingface-hub<1.0.0,>=0.1.0->datasets>=2.0.0->paddlenlp==2.3.3) (3.0.12)\n",
      "Requirement already satisfied: pyyaml>=5.1 in /opt/conda/envs/python35-paddle120-env/lib/python3.7/site-packages (from huggingface-hub<1.0.0,>=0.1.0->datasets>=2.0.0->paddlenlp==2.3.3) (5.1.2)\n",
      "Requirement already satisfied: typing-extensions>=3.7.4.3 in /opt/conda/envs/python35-paddle120-env/lib/python3.7/site-packages (from huggingface-hub<1.0.0,>=0.1.0->datasets>=2.0.0->paddlenlp==2.3.3) (4.2.0)\n",
      "Requirement already satisfied: pyparsing!=3.0.5,>=2.0.2 in /opt/conda/envs/python35-paddle120-env/lib/python3.7/site-packages (from packaging->datasets>=2.0.0->paddlenlp==2.3.3) (3.0.9)\n",
      "Requirement already satisfied: idna<3,>=2.5 in /opt/conda/envs/python35-paddle120-env/lib/python3.7/site-packages (from requests>=2.19.0->datasets>=2.0.0->paddlenlp==2.3.3) (2.8)\n",
      "Requirement already satisfied: urllib3!=1.25.0,!=1.25.1,<1.26,>=1.21.1 in /opt/conda/envs/python35-paddle120-env/lib/python3.7/site-packages (from requests>=2.19.0->datasets>=2.0.0->paddlenlp==2.3.3) (1.25.6)\n",
      "Requirement already satisfied: certifi>=2017.4.17 in /opt/conda/envs/python35-paddle120-env/lib/python3.7/site-packages (from requests>=2.19.0->datasets>=2.0.0->paddlenlp==2.3.3) (2019.9.11)\n",
      "Requirement already satisfied: chardet<4,>=3.0.2 in /opt/conda/envs/python35-paddle120-env/lib/python3.7/site-packages (from requests>=2.19.0->datasets>=2.0.0->paddlenlp==2.3.3) (3.0.4)\n",
      "Collecting urllib3!=1.25.0,!=1.25.1,<1.26,>=1.21.1\n",
      "  Downloading https://pypi.tuna.tsinghua.edu.cn/packages/56/aa/4ef5aa67a9a62505db124a5cb5262332d1d4153462eb8fd89c9fa41e5d92/urllib3-1.25.11-py2.py3-none-any.whl (127 kB)\n",
      "\u001b[2K     \u001b[90m━━━━━━━━━━━━━━━━━━━━━━━━━━━━━━━━━━━━━\u001b[0m \u001b[32m128.0/128.0 kB\u001b[0m \u001b[31m417.3 kB/s\u001b[0m eta \u001b[36m0:00:00\u001b[0ma \u001b[36m0:00:01\u001b[0m\n",
      "\u001b[?25hRequirement already satisfied: joblib>=0.11 in /opt/conda/envs/python35-paddle120-env/lib/python3.7/site-packages (from scikit-learn>=0.21.3->seqeval->paddlenlp==2.3.3) (0.14.1)\n",
      "Requirement already satisfied: scipy>=0.19.1 in /opt/conda/envs/python35-paddle120-env/lib/python3.7/site-packages (from scikit-learn>=0.21.3->seqeval->paddlenlp==2.3.3) (1.6.3)\n",
      "Requirement already satisfied: threadpoolctl>=2.0.0 in /opt/conda/envs/python35-paddle120-env/lib/python3.7/site-packages (from scikit-learn>=0.21.3->seqeval->paddlenlp==2.3.3) (2.1.0)\n",
      "Requirement already satisfied: attrs>=17.3.0 in /opt/conda/envs/python35-paddle120-env/lib/python3.7/site-packages (from aiohttp->datasets>=2.0.0->paddlenlp==2.3.3) (21.4.0)\n",
      "Collecting yarl<2.0,>=1.0\n",
      "  Downloading https://pypi.tuna.tsinghua.edu.cn/packages/80/7f/af3ecdf87e8e41da7b133f1d61f82745f8c862bdade3b56addee3ad23956/yarl-1.7.2-cp37-cp37m-manylinux_2_5_x86_64.manylinux1_x86_64.manylinux_2_12_x86_64.manylinux2010_x86_64.whl (271 kB)\n",
      "\u001b[2K     \u001b[90m━━━━━━━━━━━━━━━━━━━━━━━━━━━━━━━━━━━━━━━\u001b[0m \u001b[32m271.8/271.8 kB\u001b[0m \u001b[31m2.0 MB/s\u001b[0m eta \u001b[36m0:00:00\u001b[0ma \u001b[36m0:00:01\u001b[0m\n",
      "\u001b[?25hCollecting frozenlist>=1.1.1\n",
      "  Downloading https://pypi.tuna.tsinghua.edu.cn/packages/d1/ae/e4437fe5b5ba0fbccdaf8ecde8e3b6e8903793ca638c4706d034c0969ce1/frozenlist-1.3.0-cp37-cp37m-manylinux_2_5_x86_64.manylinux1_x86_64.manylinux_2_17_x86_64.manylinux2014_x86_64.whl (144 kB)\n",
      "\u001b[2K     \u001b[90m━━━━━━━━━━━━━━━━━━━━━━━━━━━━━━━━━━━━━━━\u001b[0m \u001b[32m144.8/144.8 kB\u001b[0m \u001b[31m2.4 MB/s\u001b[0m eta \u001b[36m0:00:00\u001b[0ma \u001b[36m0:00:01\u001b[0m\n",
      "\u001b[?25hCollecting async-timeout<5.0,>=4.0.0a3\n",
      "  Downloading https://pypi.tuna.tsinghua.edu.cn/packages/d6/c1/8991e7c5385b897b8c020cdaad718c5b087a6626d1d11a23e1ea87e325a7/async_timeout-4.0.2-py3-none-any.whl (5.8 kB)\n",
      "Collecting multidict<7.0,>=4.5\n",
      "  Downloading https://pypi.tuna.tsinghua.edu.cn/packages/db/3f/1c876ed190e8fcd1a2faef3085427e5465076e28813a2499502633f7eed3/multidict-6.0.2-cp37-cp37m-manylinux_2_17_x86_64.manylinux2014_x86_64.whl (94 kB)\n",
      "\u001b[2K     \u001b[90m━━━━━━━━━━━━━━━━━━━━━━━━━━━━━━━━━━━━━━━━\u001b[0m \u001b[32m94.8/94.8 kB\u001b[0m \u001b[31m4.4 MB/s\u001b[0m eta \u001b[36m0:00:00\u001b[0m\n",
      "\u001b[?25hCollecting asynctest==0.13.0\n",
      "  Downloading https://pypi.tuna.tsinghua.edu.cn/packages/e8/b6/8d17e169d577ca7678b11cd0d3ceebb0a6089a7f4a2de4b945fe4b1c86db/asynctest-0.13.0-py3-none-any.whl (26 kB)\n",
      "Collecting charset-normalizer<3.0,>=2.0\n",
      "  Downloading https://pypi.tuna.tsinghua.edu.cn/packages/94/69/64b11e8c2fb21f08634468caef885112e682b0ebe2908e74d3616eb1c113/charset_normalizer-2.1.0-py3-none-any.whl (39 kB)\n",
      "Collecting aiosignal>=1.1.2\n",
      "  Downloading https://pypi.tuna.tsinghua.edu.cn/packages/3b/87/fe94898f2d44a93a35d5aa74671ed28094d80753a1113d68b799fab6dc22/aiosignal-1.2.0-py3-none-any.whl (8.2 kB)\n",
      "Requirement already satisfied: zipp>=0.5 in /opt/conda/envs/python35-paddle120-env/lib/python3.7/site-packages (from importlib-metadata->datasets>=2.0.0->paddlenlp==2.3.3) (3.8.0)\n",
      "Requirement already satisfied: python-dateutil>=2.7.3 in /opt/conda/envs/python35-paddle120-env/lib/python3.7/site-packages (from pandas->datasets>=2.0.0->paddlenlp==2.3.3) (2.8.2)\n",
      "Requirement already satisfied: pytz>=2017.2 in /opt/conda/envs/python35-paddle120-env/lib/python3.7/site-packages (from pandas->datasets>=2.0.0->paddlenlp==2.3.3) (2019.3)\n",
      "Installing collected packages: paddle2onnx, xxhash, urllib3, tqdm, pyarrow, multidict, fsspec, frozenlist, charset-normalizer, asynctest, async-timeout, yarl, aiosignal, responses, paddlefsl, huggingface-hub, aiohttp, datasets, paddlenlp\n",
      "  Attempting uninstall: urllib3\n",
      "    Found existing installation: urllib3 1.25.6\n",
      "    Uninstalling urllib3-1.25.6:\n",
      "      Successfully uninstalled urllib3-1.25.6\n",
      "  Attempting uninstall: tqdm\n",
      "    Found existing installation: tqdm 4.27.0\n",
      "    Uninstalling tqdm-4.27.0:\n",
      "      Successfully uninstalled tqdm-4.27.0\n",
      "  Attempting uninstall: pyarrow\n",
      "    Found existing installation: pyarrow 2.0.0\n",
      "    Uninstalling pyarrow-2.0.0:\n",
      "      Successfully uninstalled pyarrow-2.0.0\n",
      "  Attempting uninstall: paddlefsl\n",
      "    Found existing installation: paddlefsl 1.0.0\n",
      "    Uninstalling paddlefsl-1.0.0:\n",
      "      Successfully uninstalled paddlefsl-1.0.0\n",
      "  Attempting uninstall: paddlenlp\n",
      "    Found existing installation: paddlenlp 2.1.1\n",
      "    Uninstalling paddlenlp-2.1.1:\n",
      "      Successfully uninstalled paddlenlp-2.1.1\n",
      "\u001b[31mERROR: pip's dependency resolver does not currently take into account all the packages that are installed. This behaviour is the source of the following dependency conflicts.\n",
      "parl 1.4.1 requires pyzmq==18.1.1, but you have pyzmq 23.1.0 which is incompatible.\u001b[0m\u001b[31m\n",
      "\u001b[0mSuccessfully installed aiohttp-3.8.1 aiosignal-1.2.0 async-timeout-4.0.2 asynctest-0.13.0 charset-normalizer-2.1.0 datasets-2.3.2 frozenlist-1.3.0 fsspec-2022.5.0 huggingface-hub-0.8.1 multidict-6.0.2 paddle2onnx-0.9.8 paddlefsl-1.1.0 paddlenlp-2.3.3 pyarrow-8.0.0 responses-0.18.0 tqdm-4.64.0 urllib3-1.25.11 xxhash-3.0.0 yarl-1.7.2\n",
      "Looking in indexes: https://pypi.tuna.tsinghua.edu.cn/simple\n",
      "Collecting langid\n",
      "  Downloading https://pypi.tuna.tsinghua.edu.cn/packages/ea/4c/0fb7d900d3b0b9c8703be316fbddffecdab23c64e1b46c7a83561d78bd43/langid-1.1.6.tar.gz (1.9 MB)\n",
      "\u001b[2K     \u001b[90m━━━━━━━━━━━━━━━━━━━━━━━━━━━━━━━━━━━━━━━━\u001b[0m \u001b[32m1.9/1.9 MB\u001b[0m \u001b[31m3.3 MB/s\u001b[0m eta \u001b[36m0:00:00\u001b[0m00:01\u001b[0m00:01\u001b[0m\n",
      "\u001b[?25h  Preparing metadata (setup.py) ... \u001b[?25ldone\n",
      "\u001b[?25hRequirement already satisfied: numpy in /opt/conda/envs/python35-paddle120-env/lib/python3.7/site-packages (from langid) (1.19.5)\n",
      "Building wheels for collected packages: langid\n",
      "  Building wheel for langid (setup.py) ... \u001b[?25ldone\n",
      "\u001b[?25h  Created wheel for langid: filename=langid-1.1.6-py3-none-any.whl size=1941189 sha256=f85f8ea2ea97d458869f6fd04402e4eb2a80a68f680f5711e6330efdfe8aa1c6\n",
      "  Stored in directory: /home/aistudio/.cache/pip/wheels/a7/43/8a/544ba2f2b0556a7edbfd65195ada5a83335054eb3ac9568082\n",
      "Successfully built langid\n",
      "Installing collected packages: langid\n",
      "Successfully installed langid-1.1.6\n"
     ]
    }
   ],
   "source": [
    "# 更新paddlenlp\n",
    "!pip install paddlenlp==2.3.3\n",
    "# langid判别语言类型\n",
    "!pip install langid"
   ]
  },
  {
   "cell_type": "code",
   "execution_count": 2,
   "id": "f3e026f3-e0da-4784-9c4e-174210144be0",
   "metadata": {
    "execution": {
     "iopub.execute_input": "2022-07-05T03:24:41.555225Z",
     "iopub.status.busy": "2022-07-05T03:24:41.554202Z",
     "iopub.status.idle": "2022-07-05T03:24:45.285605Z",
     "shell.execute_reply": "2022-07-05T03:24:45.284482Z",
     "shell.execute_reply.started": "2022-07-05T03:24:41.555188Z"
    },
    "scrolled": true,
    "tags": []
   },
   "outputs": [],
   "source": [
    "#  导入依赖\n",
    "import os\n",
    "import json\n",
    "import random\n",
    "import numpy as np\n",
    "import pandas as pd\n",
    "from tqdm import tqdm\n",
    "from sklearn.metrics import accuracy_score\n",
    "from sklearn.model_selection import train_test_split\n",
    "import langid\n",
    "import paddle\n",
    "import paddlenlp\n",
    "import paddle.nn.functional as F\n",
    "from functools import partial\n",
    "from paddlenlp.data import Stack, Dict, Pad\n",
    "from paddlenlp.datasets import load_dataset\n",
    "from paddlenlp.transformers.bert.tokenizer import BertTokenizer\n",
    "import matplotlib.pyplot as plt\n",
    "import seaborn as sns"
   ]
  },
  {
   "cell_type": "markdown",
   "id": "cd11115a-8041-4bb4-9344-3782f5ffc4ae",
   "metadata": {},
   "source": [
    "# 0 参数设置"
   ]
  },
  {
   "cell_type": "code",
   "execution_count": 3,
   "id": "cef9ef3b-0be2-41c7-b99f-ac68cd8c152b",
   "metadata": {
    "execution": {
     "iopub.execute_input": "2022-07-05T03:24:53.430454Z",
     "iopub.status.busy": "2022-07-05T03:24:53.429798Z",
     "iopub.status.idle": "2022-07-05T03:24:53.435496Z",
     "shell.execute_reply": "2022-07-05T03:24:53.434493Z",
     "shell.execute_reply.started": "2022-07-05T03:24:53.430413Z"
    },
    "scrolled": true,
    "tags": []
   },
   "outputs": [],
   "source": [
    "# 设定随机种子,固定结果\n",
    "seed = 1234\n",
    "def set_seed(seed):\n",
    "    paddle.seed(seed)\n",
    "    random.seed(seed)\n",
    "    np.random.seed(seed)\n",
    "set_seed(seed)"
   ]
  },
  {
   "cell_type": "code",
   "execution_count": 4,
   "id": "befcd9d3-eaa7-4406-8b90-3e77cef58323",
   "metadata": {
    "execution": {
     "iopub.execute_input": "2022-07-05T03:25:20.187002Z",
     "iopub.status.busy": "2022-07-05T03:25:20.185866Z",
     "iopub.status.idle": "2022-07-05T03:25:20.191942Z",
     "shell.execute_reply": "2022-07-05T03:25:20.191238Z",
     "shell.execute_reply.started": "2022-07-05T03:25:20.186963Z"
    },
    "scrolled": true,
    "tags": []
   },
   "outputs": [],
   "source": [
    "# 超参数设置，为了便于后续方案优化，将下方所有分散的超参数整合在本cell中\n",
    "# 注意：修改此处的超参数并不能生效，需要手动删除下方演示的超参数，再通过本cell控制超参数调优\n",
    "MODEL_NAME = 'bert-base-multilingual-cased' # bert-base-multilingual-cased\n",
    "# 设置最大文本长度\n",
    "max_seq_length = 48\n",
    "# batch size这里设置\n",
    "intent_train_batch_size = 32\n",
    "intent_valid_batch_size = 32\n",
    "intent_test_batch_size = 32\n",
    "# pad slot时设置igore_label的值\n",
    "ignore_label = -100\n",
    "# 训练过程中的最大学习率\n",
    "learning_rate = 5e-5\n",
    "# 训练轮次\n",
    "epochs = 10\n",
    "# 学习率预热比例\n",
    "warmup_proportion = 0.1\n",
    "# 权重衰减系数，类似模型正则项策略，避免模型过拟合\n",
    "weight_decay = 0.01\n",
    "max_grad_norm = 1.0\n",
    "# 训练结束后，存储模型参数\n",
    "save_dir_curr = \"checkpoint/intent_model\"\n",
    "# 记录训练epoch、损失等值\n",
    "loggiing_print = 50\n",
    "loggiing_eval = 50\n",
    "# 提交文件名称\n",
    "sumbit_excel_name = \"work/submit_tsetA.xlsx\""
   ]
  },
  {
   "cell_type": "markdown",
   "id": "25012939-32d3-49fd-8761-b7ba9c60c94a",
   "metadata": {},
   "source": [
    "# 1 读取数据和EDA\n",
    "## 1.1 读取数据"
   ]
  },
  {
   "cell_type": "code",
   "execution_count": 5,
   "id": "dbb9202e-731f-4273-8d2b-6e5fa8e88c4d",
   "metadata": {
    "execution": {
     "iopub.execute_input": "2022-07-05T03:25:34.334770Z",
     "iopub.status.busy": "2022-07-05T03:25:34.333683Z",
     "iopub.status.idle": "2022-07-05T03:25:36.936055Z",
     "shell.execute_reply": "2022-07-05T03:25:36.935201Z",
     "shell.execute_reply.started": "2022-07-05T03:25:34.334733Z"
    },
    "scrolled": true,
    "tags": []
   },
   "outputs": [],
   "source": [
    "# 查看数据\n",
    "\n",
    "japan_train = pd.read_excel('data/data154631/日语_train.xlsx')\n",
    "en_train = pd.read_excel('data/data154631/英文_train.xlsx')\n",
    "zh_train = pd.read_excel('data/data154631/中文_trian.xlsx')\n",
    "test_en =  pd.read_excel('data/data154631/testA.xlsx',sheet_name='英文_testA')\n",
    "test_japan =  pd.read_excel('data/data154631/testA.xlsx',sheet_name='日语_testA')\n",
    "test = pd.concat([test_en,test_japan],axis=0)"
   ]
  },
  {
   "cell_type": "markdown",
   "id": "2c42f2a8-969a-49b8-a309-f1400725a0ba",
   "metadata": {},
   "source": [
    "## 1.2 统计意图标签"
   ]
  },
  {
   "cell_type": "code",
   "execution_count": 6,
   "id": "7fabf821-c100-443b-915c-e73219087fa9",
   "metadata": {
    "execution": {
     "iopub.execute_input": "2022-07-05T03:25:48.320047Z",
     "iopub.status.busy": "2022-07-05T03:25:48.319162Z",
     "iopub.status.idle": "2022-07-05T03:25:48.348740Z",
     "shell.execute_reply": "2022-07-05T03:25:48.348043Z",
     "shell.execute_reply.started": "2022-07-05T03:25:48.319999Z"
    },
    "scrolled": false,
    "tags": []
   },
   "outputs": [
    {
     "name": "stdout",
     "output_type": "stream",
     "text": [
      "日语训练集共1002条\t意图标签数目17个\n",
      "英文训练集共1001条\t意图标签数目17个\n",
      "中文训练集共32275条\t意图标签数目17个\n",
      "测试集共1291条\n",
      "意图标签共18个\n",
      "分别有['open_collect_music', 'adjust_ac_temperature_to_number', 'collect_music', 'navigate_landmark_poi', 'open_ac_mode', 'open_ac', 'close_ac', 'adjust_ac_windspeed_to_number', 'view_trans', 'raise_ac_temperature_little', 'play_collect_music', 'navigate_poi', 'close_car_device', 'map_control_query', 'open_car_device', 'lower_ac_temperature_little', 'map_control_confirm', 'music_search_artist_song']\n"
     ]
    },
    {
     "data": {
      "text/plain": [
       "(16, 17, 16, 18)"
      ]
     },
     "execution_count": 6,
     "metadata": {},
     "output_type": "execute_result"
    }
   ],
   "source": [
    "JAPAN_INTENT_LIST = list(set(japan_train['意图']))\n",
    "print(\"日语训练集共%d条\\t意图标签数目%d个\" % (japan_train.shape[0],len(JAPAN_INTENT_LIST)))\n",
    "EN_INTENT_LIST = list(set(en_train['意图']))\n",
    "print(\"英文训练集共%d条\\t意图标签数目%d个\" % (en_train.shape[0],len(EN_INTENT_LIST)))\n",
    "ZH_INTENT_LIST = list(set(zh_train['意图']))\n",
    "print(\"中文训练集共%d条\\t意图标签数目%d个\" % (zh_train.shape[0],len(ZH_INTENT_LIST )))\n",
    "print(\"测试集共%d条\" % (test.shape[0]))\n",
    "# 意图标签\n",
    "INTENT_LIST = list(set(EN_INTENT_LIST + ZH_INTENT_LIST + EN_INTENT_LIST))\n",
    "print(f\"意图标签共{len(INTENT_LIST)}个\\n分别有{INTENT_LIST}\")\n",
    "len(set(JAPAN_INTENT_LIST) & set(ZH_INTENT_LIST)),len(set(JAPAN_INTENT_LIST) & set(EN_INTENT_LIST)),len(set(ZH_INTENT_LIST) & set(EN_INTENT_LIST)),len(INTENT_LIST)"
   ]
  },
  {
   "cell_type": "code",
   "execution_count": 7,
   "id": "2628e4fe-3b89-44f6-bbbd-17b2bc98f319",
   "metadata": {
    "execution": {
     "iopub.execute_input": "2022-07-05T03:25:53.961855Z",
     "iopub.status.busy": "2022-07-05T03:25:53.961253Z",
     "iopub.status.idle": "2022-07-05T03:25:54.975658Z",
     "shell.execute_reply": "2022-07-05T03:25:54.974657Z",
     "shell.execute_reply.started": "2022-07-05T03:25:53.961817Z"
    },
    "scrolled": false,
    "tags": []
   },
   "outputs": [
    {
     "data": {
      "image/png": "[encoded data removed]",
      "text/plain": [
       "<Figure size 432x288 with 1 Axes>"
      ]
     },
     "metadata": {
      "needs_background": "light"
     },
     "output_type": "display_data"
    },
    {
     "data": {
      "image/png": "[encoded data removed]",
      "text/plain": [
       "<Figure size 432x288 with 1 Axes>"
      ]
     },
     "metadata": {
      "needs_background": "light"
     },
     "output_type": "display_data"
    },
    {
     "data": {
      "image/png": "[encoded data removed]",
      "text/plain": [
       "<Figure size 432x288 with 1 Axes>"
      ]
     },
     "metadata": {
      "needs_background": "light"
     },
     "output_type": "display_data"
    }
   ],
   "source": [
    "# 统计 label_i 的数目\n",
    "plt.title(\"japan train\")\n",
    "sns.countplot(y='意图',data=japan_train)\n",
    "plt.show()\n",
    "plt.title(\"english train\")\n",
    "sns.countplot(y='意图',data=en_train)\n",
    "plt.show()\n",
    "plt.title(\"chinesetrain\")\n",
    "sns.countplot(y='意图',data=zh_train)\n",
    "plt.show()"
   ]
  },
  {
   "cell_type": "markdown",
   "id": "3c43b460-8d70-4e56-b213-f4c6f0bf7101",
   "metadata": {},
   "source": [
    "## 1.3 统计Slot标签"
   ]
  },
  {
   "cell_type": "code",
   "execution_count": 9,
   "id": "76db0b3e-dee8-469e-af5a-ed4c222bfa11",
   "metadata": {
    "execution": {
     "iopub.execute_input": "2022-07-05T03:45:34.615331Z",
     "iopub.status.busy": "2022-07-05T03:45:34.614515Z",
     "iopub.status.idle": "2022-07-05T03:45:37.178772Z",
     "shell.execute_reply": "2022-07-05T03:45:37.178004Z",
     "shell.execute_reply.started": "2022-07-05T03:45:34.615295Z"
    },
    "scrolled": false,
    "tags": []
   },
   "outputs": [
    {
     "name": "stdout",
     "output_type": "stream",
     "text": [
      "intent-slot标签共11个\n",
      "分别是['O', 'adjust_ac_temperature_to_number-offset', 'adjust_ac_windspeed_to_number-offset', 'close_car_device-device', 'music_search_artist_song-singer', 'music_search_artist_song-song', 'navigate_landmark_poi-landmark', 'navigate_landmark_poi-poi', 'navigate_poi-poi', 'open_ac_mode-mode', 'open_car_device-device']\n"
     ]
    }
   ],
   "source": [
    "# 统计slot标签\n",
    "SLOT_LIST = set()\n",
    "SLOT_LIST.add('O')\n",
    "for idx,rows in japan_train.iterrows():\n",
    "    if rows['槽值1'] is not np.NaN:\n",
    "        slot_name = (rows[\"意图\"] +\"-\"+ rows[\"槽值1\"].split(\":\")[0])\n",
    "        SLOT_LIST.add(slot_name)\n",
    "    if rows['槽值2'] is not np.NaN:   \n",
    "        slot_name = (rows[\"意图\"] +\"-\"+ rows[\"槽值2\"].split(\":\")[0])\n",
    "        SLOT_LIST.add(slot_name)\n",
    "for idx,rows in en_train.iterrows():\n",
    "    if rows['槽值1'] is not np.NaN:\n",
    "        slot_name = (rows[\"意图\"] +\"-\"+ rows[\"槽值1\"].split(\":\")[0])\n",
    "        SLOT_LIST.add(slot_name)\n",
    "    if rows['槽值2'] is not np.NaN:   \n",
    "        slot_name = (rows[\"意图\"] +\"-\"+ rows[\"槽值2\"].split(\":\")[0])\n",
    "        SLOT_LIST.add(slot_name)\n",
    "for idx,rows in zh_train.iterrows():\n",
    "    if rows['槽值1'] is not np.NaN:\n",
    "        slot_name = (rows[\"意图\"] +\"-\"+ rows[\"槽值1\"].split(\":\")[0])\n",
    "        SLOT_LIST.add(slot_name)\n",
    "    if rows['槽值2'] is not np.NaN:   \n",
    "        slot_name = (rows[\"意图\"] +\"-\"+ rows[\"槽值2\"].split(\":\")[0])\n",
    "        SLOT_LIST.add(slot_name)\n",
    "SLOT_LIST = list(set(SLOT_LIST))\n",
    "SLOT_LIST = sorted(SLOT_LIST)\n",
    "print(f\"intent-slot标签共{len(SLOT_LIST)}个\\n分别是{SLOT_LIST}\")"
   ]
  },
  {
   "cell_type": "markdown",
   "id": "34e61be9-5fea-49ac-903f-d4a9f17c00cc",
   "metadata": {},
   "source": [
    "## 1.4 统计文本长度"
   ]
  },
  {
   "cell_type": "code",
   "execution_count": 10,
   "id": "3b9d66ad-df21-44e3-8884-7efcaf494e2b",
   "metadata": {
    "execution": {
     "iopub.execute_input": "2022-07-05T03:45:53.103650Z",
     "iopub.status.busy": "2022-07-05T03:45:53.102431Z",
     "iopub.status.idle": "2022-07-05T03:45:54.036374Z",
     "shell.execute_reply": "2022-07-05T03:45:54.035589Z",
     "shell.execute_reply.started": "2022-07-05T03:45:53.103594Z"
    },
    "scrolled": false,
    "tags": []
   },
   "outputs": [
    {
     "data": {
      "image/png": "[encoded data removed]",
      "text/plain": [
       "<Figure size 432x288 with 1 Axes>"
      ]
     },
     "metadata": {
      "needs_background": "light"
     },
     "output_type": "display_data"
    },
    {
     "data": {
      "image/png": "[encoded data removed]",
      "text/plain": [
       "<Figure size 432x288 with 1 Axes>"
      ]
     },
     "metadata": {
      "needs_background": "light"
     },
     "output_type": "display_data"
    },
    {
     "data": {
      "image/png": "[encoded data removed]",
      "text/plain": [
       "<Figure size 432x288 with 1 Axes>"
      ]
     },
     "metadata": {
      "needs_background": "light"
     },
     "output_type": "display_data"
    }
   ],
   "source": [
    "japan_train['len'] = [len(i) for i in japan_train[\"原始文本\"]]\n",
    "plt.title(\"japan train text length\")\n",
    "sns.distplot(japan_train['len'],bins=10)\n",
    "plt.show()\n",
    "\n",
    "en_train['len'] = [len(i.split(\" \")) for i in en_train[\"原始文本\"]]\n",
    "plt.title(\"english train text length\")\n",
    "sns.distplot(en_train['len'],bins=10)\n",
    "plt.show()\n",
    "\n",
    "zh_train['len'] = [len(i) for i in zh_train[\"原始文本\"]]\n",
    "plt.title(\"chinese train text length\")\n",
    "sns.distplot(zh_train['len'],bins=10)\n",
    "plt.show()"
   ]
  },
  {
   "cell_type": "markdown",
   "id": "a9182410-f9b1-431f-957a-115868f94155",
   "metadata": {},
   "source": [
    "EDA结果：\n",
    "\n",
    "- 在三类训练预料中意图标签极度不平衡\n",
    "- 原始文本中并不是每一个文本都包含slot标签，slot标签也是不平衡的\n",
    "- 文本长度的最大值均未超过40,在max_len的选择上不要设置太大,本文选取48作为max_len值，可能并非最优max_len"
   ]
  },
  {
   "cell_type": "markdown",
   "id": "12ea2080-ea7b-42f6-888f-264a948bcb57",
   "metadata": {},
   "source": [
    "# 2 处理数据集"
   ]
  },
  {
   "cell_type": "markdown",
   "id": "2b822786-477e-4889-98ea-eb70073b3a81",
   "metadata": {
    "execution": {
     "iopub.execute_input": "2022-06-26T13:47:03.179872Z",
     "iopub.status.busy": "2022-06-26T13:47:03.179148Z",
     "iopub.status.idle": "2022-06-26T13:47:03.184104Z",
     "shell.execute_reply": "2022-06-26T13:47:03.183319Z",
     "shell.execute_reply.started": "2022-06-26T13:47:03.179825Z"
    },
    "tags": []
   },
   "source": [
    "## 2.1 划分训练集和验证集\n",
    "- 分割日文训练集和英文训练集作为验证集,剩余日英数据集为训练集（简单融合过所有中文训练集但效果很差，先使用低资源训练集得到Baseline）\n",
    "- 分割比例8:2"
   ]
  },
  {
   "cell_type": "code",
   "execution_count": 11,
   "id": "70d2ab51-b6bf-4bc3-8753-feea52c58625",
   "metadata": {
    "execution": {
     "iopub.execute_input": "2022-07-05T03:51:17.453650Z",
     "iopub.status.busy": "2022-07-05T03:51:17.452814Z",
     "iopub.status.idle": "2022-07-05T03:51:17.465773Z",
     "shell.execute_reply": "2022-07-05T03:51:17.465070Z",
     "shell.execute_reply.started": "2022-07-05T03:51:17.453609Z"
    },
    "scrolled": true,
    "tags": []
   },
   "outputs": [
    {
     "data": {
      "text/plain": [
       "((1601, 6), (402, 6))"
      ]
     },
     "execution_count": 11,
     "metadata": {},
     "output_type": "execute_result"
    }
   ],
   "source": [
    "# 使用sklearn的train_test_split划分数据集\n",
    "intent_train_dataset1,intent_validation_dataset1 = train_test_split(japan_train, test_size=0.2, random_state=seed)\n",
    "intent_train_dataset2,intent_validation_dataset2 = train_test_split(en_train, test_size=0.2, random_state=seed)\n",
    "# 整合验证集\n",
    "intent_validation_dataset = pd.concat([intent_validation_dataset1,intent_validation_dataset2],axis=0)\n",
    "# 整合训练集\n",
    "intent_train_dataset = pd.concat([intent_train_dataset1,intent_train_dataset2],axis=0)\n",
    "# intent_train_dataset = pd.concat([intent_train_dataset,zh_train],axis=0)\n",
    "intent_train_dataset.shape,intent_validation_dataset.shape"
   ]
  },
  {
   "cell_type": "markdown",
   "id": "89ca0584-5b2d-4c4f-86e4-20ed1f90c754",
   "metadata": {},
   "source": [
    "## 2.2 数据预处理和编码\n",
    "- 意图识别任务的编码较为容易，统一为{'texts':[],'intent_labels':[]}\n",
    "- Slot(槽值)识别任务采用简化的BIO编码,对于slot位置编码对应的slot类别，对于非slot位置使用'O'编码，如下所示\n",
    "```\n",
    "'目','O'\n",
    "'的','O'\n",
    "'地','O'\n",
    "'を','O' \n",
    "'阿','navigate_poi-poi' \n",
    "'波','navigate_poi-poi' \n",
    "'加','navigate_poi-poi' \n",
    "'茂','navigate_poi-poi' \n",
    "'駅','navigate_poi-poi' \n",
    "'に','O'\n",
    "'設','O'\n",
    "'定','O'\n",
    "'す','O'\n",
    "'る','O'\n",
    "```\n",
    "其中`navigate_poi-poi`的前半部分由意图组成,后半部分由slot组成，通过\"-\"连接，即navigate_poi为意图，poi是槽值名，这样设计易于统计所有意图和slot的组合。\n",
    "\n",
    "baseline后续联合训练方式，因此将意图标签和slot标签合并，处理后的训练数据如下：\n",
    "```python\n",
    "{\n",
    " 'words': ['目', '的', '地', 'を', '阿', '波', '加', '茂', '駅', 'に', '設', '定', 'す', 'る'],\n",
    " 'intents': 'navigate_poi', \n",
    " 'slots': ['O', 'O', 'O', 'O', 'navigate_poi-poi', 'navigate_poi-poi', 'navigate_poi-poi', 'navigate_poi-poi', 'navigate_poi-poi', 'O', 'O', 'O', 'O', 'O']\n",
    "}\n",
    "```\n"
   ]
  },
  {
   "cell_type": "code",
   "execution_count": 12,
   "id": "b30d4d46-c69d-42fc-9ade-5e54e6fca1b0",
   "metadata": {
    "execution": {
     "iopub.execute_input": "2022-07-05T03:51:36.119777Z",
     "iopub.status.busy": "2022-07-05T03:51:36.118644Z",
     "iopub.status.idle": "2022-07-05T03:51:36.587703Z",
     "shell.execute_reply": "2022-07-05T03:51:36.586816Z",
     "shell.execute_reply.started": "2022-07-05T03:51:36.119737Z"
    },
    "scrolled": true,
    "tags": []
   },
   "outputs": [
    {
     "name": "stderr",
     "output_type": "stream",
     "text": [
      "[2022-07-05 11:51:36,122] [    INFO] - Downloading https://bj.bcebos.com/paddle-hapi/models/bert/bert-base-multilingual-uncased-vocab.txt and saved to /home/aistudio/.paddlenlp/models/bert-base-multilingual-uncased\n",
      "[2022-07-05 11:51:36,127] [    INFO] - Downloading bert-base-multilingual-uncased-vocab.txt from https://bj.bcebos.com/paddle-hapi/models/bert/bert-base-multilingual-uncased-vocab.txt\n",
      "100%|██████████| 851k/851k [00:00<00:00, 4.02MB/s]\n"
     ]
    }
   ],
   "source": [
    "# 设置准备拉取的预训练模型名称\n",
    "# 准备了两个模型\n",
    "# 1.bert-base-multilingual-cased:BERT多语言预训练模型，cased 区分大小写\n",
    "# 2.bert-base-multilingual-uncased:BERT多语言预训练模型,uncased 不区分大小写\n",
    "\n",
    "MODEL_NAME = 'bert-base-multilingual-uncased' # bert-base-multilingual-cased\n",
    "\n",
    "# 加载tokenizer\n",
    "tokenizer = BertTokenizer.from_pretrained(MODEL_NAME)\n",
    "\n",
    "# 给出的标签均为文本，创建label_map构建映射关系\n",
    "def get_label_map(label_list):\n",
    "    id2label = dict([(idx, label) for idx, label in enumerate(label_list)])\n",
    "    label2id = dict([(label, idx) for idx, label in enumerate(label_list)])\n",
    "    return id2label, label2id\n",
    "# 意图类型处理成字典\n",
    "id2intent, intent2id = get_label_map(INTENT_LIST)\n",
    "# 槽位类型、意图类型和隐藏意图类型处理成字典\n",
    "id2slot, slot2id = get_label_map(SLOT_LIST)"
   ]
  },
  {
   "cell_type": "markdown",
   "id": "458552ed-8957-4dc8-8741-a3122e062256",
   "metadata": {},
   "source": [
    "由于处理中存在两种不同语言的平行预料，在slot标签的构建上略有不同\n",
    "\n",
    "日语的处理方式与处理中文语料类似，使用检索可以快速构建slot标签\n",
    "\n",
    "但英语序列标注有其特殊之处。其特殊之处在于，BERT会将复杂的英语单词拆分成多个简单英语单词，进行tokenize.\n",
    "\n",
    "例如,以\"A man waits in the arrivals hall at Heathrow Airport in London.\"为例子，通过tokenizer后得到如下编码：\n",
    "```\n",
    "ids:  [101, 1037, 2158, 18074, 1999, 1996, 25470, 2534, 2012, 9895, 10524, 3199, 1999, 2414, 1012, 102]\n",
    "type_ids:  [0, 0, 0, 0, 0, 0, 0, 0, 0, 0, 0, 0, 0, 0, 0, 0]\n",
    "encode_text:  ['[CLS]', 'a', 'man', 'waits', 'in', 'the', 'arrivals', 'hall', 'at', 'heath', '##row', 'airport', 'in', 'london', '.', '[SEP]']\n",
    "```\n",
    "\n",
    "可以看到，在句子中单词Heathrow被拆分成了两个token：heath和##row，这是BERT英语预训练模型在tokenize时的特殊之处。\n",
    "\n",
    "基于上述原因，原来的标注序列：\n",
    "```\n",
    "['a', 'man', 'waits', 'in', 'the', 'arrivals', 'hall', 'at', 'heathrow', 'airport', 'in', 'london', '.']\n",
    "['O', 'O', 'O', 'O', 'O', 'O', 'O', 'O', 'B-LOC', 'I-LOC', 'O', 'B-LOC', 'O']\n",
    "```\n",
    "在对英语语料进行序列标注时，应当变成如下序列：\n",
    "```\n",
    "['[CLS]', 'a', 'man', 'waits', 'in', 'the', 'arrivals', 'hall', 'at', 'heath', '##row', 'airport', 'in', 'london', '.', '[SEP]']\n",
    "['O', 'O', 'O', 'O', 'O', 'O', 'O', 'O', 'O', 'B-LOC', 'B-LOC', 'I-LOC', 'O', 'B-LOC', 'O', 'O']\n",
    "```\n",
    "多了一个`B-LOC`和两个`O`,也就是说，拆分后的多个简单英语单词的序列标注标签将会跟随原先复杂单词的标签。\n",
    "\n",
    "\n",
    "参考资料:\n",
    "\n",
    "[山阴少年. NLP（三十七）使用keras-bert实现英语序列标注任务](https://blog.csdn.net/jclian91/article/details/112216838)\n"
   ]
  },
  {
   "cell_type": "code",
   "execution_count": 13,
   "id": "f960fdd2-f0e9-4199-a8de-584e38103e62",
   "metadata": {
    "execution": {
     "iopub.execute_input": "2022-07-05T04:02:31.898806Z",
     "iopub.status.busy": "2022-07-05T04:02:31.898113Z",
     "iopub.status.idle": "2022-07-05T04:02:31.911530Z",
     "shell.execute_reply": "2022-07-05T04:02:31.910634Z",
     "shell.execute_reply.started": "2022-07-05T04:02:31.898770Z"
    },
    "scrolled": false,
    "tags": []
   },
   "outputs": [],
   "source": [
    "def en_slot_tokenizer_gen(texts,intents=None,slot_label=None,slot_value=None,modeSlot=True):\n",
    "    # 使用tokenizer编码原始文本和slot值\n",
    "    new_texts = list(tokenizer.convert_ids_to_tokens(tokenizer(texts)['input_ids']))\n",
    "    new_slots = np.full(shape=len(new_texts),fill_value='O',dtype='object')\n",
    "    # 如果是无slot的文本直接返回编码后的全O标签，有slot则使用新的序列进行搜索生成新slot序列\n",
    "    if modeSlot is False:\n",
    "        return new_slots\n",
    "    else:\n",
    "        new_slot_value = tokenizer.convert_ids_to_tokens(tokenizer(slot_value)['input_ids'])[1:-1]\n",
    "        s = new_texts .index(new_slot_value[0])\n",
    "        e = s + len(new_slot_value)\n",
    "        new_slots[s:e] = [(intents+\"-\"+slot_label)] * len(new_slot_value)\n",
    "        return new_slots\n",
    "\n",
    "# 根据本地文件格式和上述方式定义数据读取生成器\n",
    "def read(df,istrain=True):\n",
    "    # 是否是训练集，否则仅返回文本，是则分会文本和标签\n",
    "    if istrain:\n",
    "        for idx,rows in tqdm(df.iterrows(),total=df.shape[0]):\n",
    "            text = rows['原始文本']\n",
    "            intents = rows['意图']\n",
    "            # 使用langid判定文本属于哪一种语言\n",
    "            language = langid.classify(text)[0] \n",
    "            if language == 'en':\n",
    "                texts = text\n",
    "                slots = en_slot_tokenizer_gen(texts,modeSlot=False)\n",
    "            else:\n",
    "                texts = [i for i in text]\n",
    "                slots = np.full(shape=len(texts),fill_value='O',dtype='object')\n",
    "            # 排除槽值为空的情况\n",
    "            slot_cols = ['槽值1','槽值2']\n",
    "            if rows['槽值1'] is np.NaN:\n",
    "                slot_cols.remove('槽值1')\n",
    "            if rows['槽值2'] is np.NaN:\n",
    "                slot_cols.remove('槽值2')\n",
    "            # 根据槽值字段列表存在的情况对槽值进行处理\n",
    "            if len(slot_cols) > 0:\n",
    "                for solt_col in slot_cols:\n",
    "                    # 获取 槽值标签 和 槽值内容\n",
    "                    slot_value = rows[solt_col].split(\":\")[1]\n",
    "                    slot_label = rows[solt_col].split(\":\")[0]\n",
    "                    # 若是英语则调用tokenizer进行处理,非英文则搜索对应槽值找到起始位置和结束为止生成序列标记\n",
    "                    if language == 'en':\n",
    "                        slots = en_slot_tokenizer_gen(texts,intents,slot_label,slot_value,modeSlot=True)\n",
    "                    else:\n",
    "                        s = text.index(slot_value)\n",
    "                        e = s + len(slot_value)\n",
    "                        slots_name = (intents+\"-\"+slot_label)\n",
    "                        slots[s:e] = [slots_name] * len(slot_value)\n",
    "            # 对于非英文语言，需要在首尾为[CLS][SEP]补充添加\"O\"\n",
    "            if language != 'en':\n",
    "                slots = ['O'] + slots.tolist() + ['O'] \n",
    "            yield {\n",
    "                \"words\":texts,\n",
    "                \"intents\":intents,\n",
    "                \"slots\":slots,\n",
    "                }\n",
    "    else:\n",
    "        for idx,rows in df.iterrows():\n",
    "            yield {\n",
    "                'words': rows['原始文本'],\n",
    "            }"
   ]
  },
  {
   "cell_type": "code",
   "execution_count": 14,
   "id": "8daac509-1064-41c8-8ac5-ff11491ba53a",
   "metadata": {
    "execution": {
     "iopub.execute_input": "2022-07-05T04:02:49.909410Z",
     "iopub.status.busy": "2022-07-05T04:02:49.908629Z",
     "iopub.status.idle": "2022-07-05T04:05:26.032590Z",
     "shell.execute_reply": "2022-07-05T04:05:26.031350Z",
     "shell.execute_reply.started": "2022-07-05T04:02:49.909367Z"
    },
    "scrolled": true,
    "tags": []
   },
   "outputs": [
    {
     "name": "stderr",
     "output_type": "stream",
     "text": [
      "100%|██████████| 1601/1601 [02:04<00:00, 12.90it/s]\n",
      "100%|██████████| 402/402 [00:31<00:00, 12.97it/s]\n"
     ]
    },
    {
     "name": "stdout",
     "output_type": "stream",
     "text": [
      "{'words': ['2', '0', '0', '0', '円', 'く', 'ら', 'い', 'で', '食', '事', 'で', 'き', 'る', '飛', '騨', '小', '坂', '駅', 'を', '教', 'え', 'る'], 'intents': 'navigate_landmark_poi', 'slots': ['O', 'O', 'O', 'O', 'O', 'O', 'O', 'O', 'O', 'O', 'O', 'O', 'O', 'O', 'O', 'navigate_landmark_poi-poi', 'navigate_landmark_poi-poi', 'navigate_landmark_poi-poi', 'navigate_landmark_poi-poi', 'navigate_landmark_poi-poi', 'O', 'O', 'O', 'O', 'O']}\n",
      "==========================================================================================\n",
      "{'words': ['目', '的', '地', 'を', '阿', '波', '加', '茂', '駅', 'に', '設', '定', 'す', 'る'], 'intents': 'navigate_poi', 'slots': ['O', 'O', 'O', 'O', 'O', 'navigate_poi-poi', 'navigate_poi-poi', 'navigate_poi-poi', 'navigate_poi-poi', 'navigate_poi-poi', 'O', 'O', 'O', 'O', 'O', 'O']}\n",
      "==========================================================================================\n",
      "{'words': 'Can you open the sunroof for me', 'intents': 'open_car_device', 'slots': array(['O', 'O', 'O', 'O', 'O', 'open_car_device-device',\n",
      "       'open_car_device-device', 'open_car_device-device', 'O', 'O', 'O'],\n",
      "      dtype=object)}\n",
      "==========================================================================================\n",
      "{'words': 'Start the navigating', 'intents': 'map_control_confirm', 'slots': array(['O', 'O', 'O', 'O', 'O', 'O'], dtype=object)}\n",
      "==========================================================================================\n"
     ]
    }
   ],
   "source": [
    "# 将生成器传入load_dataset\n",
    "intent_train_ds = load_dataset(read, df=intent_train_dataset, lazy=False)\n",
    "intent_valid_ds = load_dataset(read, df=intent_validation_dataset, lazy=False)\n",
    "\n",
    "# 查看数据\n",
    "for idx in range(78,80):\n",
    "    print(intent_train_ds[idx])\n",
    "    print(\"===\"*30)\n",
    "for idx in range(380,382):\n",
    "    print(intent_valid_ds[idx])\n",
    "    print(\"===\"*30)\n",
    "\n",
    "# 设置最大文本长度\n",
    "max_seq_length = 48\n",
    "# batch size这里设置\n",
    "intent_train_batch_size = 16\n",
    "intent_valid_batch_size = 16\n",
    "intent_test_batch_size = 16\n",
    "ignore_label = -100\n",
    "\n",
    "# 编码\n",
    "def convert_example(example, tokenizer, max_seq_len=512, mode='train'):\n",
    "    # 调用tokenizer的数据处理方法把文本转为id\n",
    "    tokenized_input = tokenizer(\n",
    "        example['words'],\n",
    "        is_split_into_words=True,\n",
    "        max_seq_len=max_seq_len)\n",
    "    if mode == \"test\":\n",
    "        return tokenized_input\n",
    "    # 把意图标签转为数字id\n",
    "    tokenized_input['intent_labels'] = [intent2id[example['intents']]]\n",
    "    tokenized_input['slot_labels'] = [slot2id[i] for i in example['slots']]\n",
    "    return tokenized_input\n",
    "\n",
    "intent_train_trans_func = partial(\n",
    "        convert_example,\n",
    "        tokenizer=tokenizer,\n",
    "        mode='train',\n",
    "        max_seq_len=max_seq_length)\n",
    "\n",
    "intent_valid_trans_func = partial(\n",
    "        convert_example,\n",
    "        tokenizer=tokenizer,\n",
    "        mode='dev',\n",
    "        max_seq_len=max_seq_length)\n",
    "\n",
    "intent_train_ds.map(intent_train_trans_func, lazy=False)   \n",
    "intent_valid_ds.map(intent_valid_trans_func, lazy=False)\n",
    "\n",
    "# 初始化BatchSampler\n",
    "intent_train_batch_sampler = paddle.io.BatchSampler(\n",
    "    intent_train_ds, batch_size=intent_train_batch_size, shuffle=False)\n",
    "\n",
    "intent_valid_batch_sampler = paddle.io.BatchSampler(\n",
    "    intent_valid_ds, batch_size=intent_valid_batch_size, shuffle=False)\n",
    "\n",
    "# 定义batchify_fn\n",
    "batchify_fn = lambda samples, fn = Dict({\n",
    "    \"input_ids\": Pad(axis=0, pad_val=tokenizer.pad_token_id), \n",
    "    \"token_type_ids\": Pad(axis=0, pad_val=tokenizer.pad_token_type_id),\n",
    "    \"intent_labels\": Stack(dtype=\"int32\"),\n",
    "    \"slot_labels\":Pad(axis=0, pad_val=ignore_label) \n",
    "}): fn(samples)\n",
    "\n",
    "\n",
    "# 初始化DataLoader\n",
    "intent_train_data_loader = paddle.io.DataLoader(\n",
    "    dataset=intent_train_ds,\n",
    "    batch_sampler=intent_train_batch_sampler,\n",
    "    collate_fn=batchify_fn,\n",
    "    return_list=True)\n",
    "\n",
    "intent_valid_data_loader = paddle.io.DataLoader(\n",
    "    dataset=intent_valid_ds,\n",
    "    batch_sampler=intent_valid_batch_sampler,\n",
    "    collate_fn=batchify_fn,\n",
    "    return_list=True)\n",
    "\n",
    "# 相同方式构造测试集\n",
    "intent_test_ds = load_dataset(read,df=test,istrain=False, lazy=False)\n",
    "\n",
    "intent_test_trans_func = partial(\n",
    "        convert_example,\n",
    "        tokenizer=tokenizer,\n",
    "        mode='test',\n",
    "        max_seq_len=max_seq_length)\n",
    "\n",
    "intent_test_ds.map(intent_test_trans_func, lazy=False)\n",
    "\n",
    "intent_test_batch_sampler = paddle.io.BatchSampler(intent_test_ds, batch_size=intent_test_batch_size, shuffle=False)\n",
    "\n",
    "test_batchify_fn = lambda samples, fn = Dict({\n",
    "    \"input_ids\": Pad(axis=0, pad_val=tokenizer.pad_token_id), \n",
    "    \"token_type_ids\": Pad(axis=0, pad_val=tokenizer.pad_token_type_id),\n",
    "}): fn(samples)\n",
    "\n",
    "intent_test_data_loader = paddle.io.DataLoader(\n",
    "    dataset=intent_test_ds,\n",
    "    batch_sampler=intent_test_batch_sampler,\n",
    "    collate_fn=test_batchify_fn,\n",
    "    return_list=True)"
   ]
  },
  {
   "cell_type": "markdown",
   "id": "ae1d46dc-f61a-4acc-bba1-1fa024273898",
   "metadata": {},
   "source": [
    "# 3 创建模型和加载相关配置"
   ]
  },
  {
   "cell_type": "markdown",
   "id": "bbfb43e9-a04b-42f8-aea1-b6931036a00d",
   "metadata": {},
   "source": [
    "## 3.1 创建联合识别模型"
   ]
  },
  {
   "cell_type": "code",
   "execution_count": 15,
   "id": "42bf00f4-b785-42ba-9463-b9667658fae4",
   "metadata": {
    "execution": {
     "iopub.execute_input": "2022-07-05T04:05:26.081976Z",
     "iopub.status.busy": "2022-07-05T04:05:26.081636Z",
     "iopub.status.idle": "2022-07-05T04:05:26.089968Z",
     "shell.execute_reply": "2022-07-05T04:05:26.089190Z",
     "shell.execute_reply.started": "2022-07-05T04:05:26.081932Z"
    },
    "scrolled": true,
    "tags": []
   },
   "outputs": [],
   "source": [
    "import paddle\n",
    "from paddle import nn\n",
    "from paddlenlp.transformers.bert.modeling import BertPretrainedModel\n",
    "\n",
    "# ERTIntentModel\n",
    "class BERTIntentModel(BertPretrainedModel):\n",
    "    def __init__(self, bert, intent_dim, slot_dim, dropout=None):\n",
    "        super(BERTIntentModel, self).__init__()\n",
    "        # 标签大小\n",
    "        self.intent_num_labels = intent_dim\n",
    "        self.slot_num_labels = slot_dim\n",
    "        # 预训练模型\n",
    "        self.bert = bert\n",
    "        # intent classifier\n",
    "        self.intent_dropout = nn.Dropout(dropout if dropout is not None else self.bert.onfig[\"hidden_dropout_prob\"])\n",
    "        self.intent_classifier = nn.Linear(self.bert.config['hidden_size'], self.intent_num_labels)\n",
    "        # slot classifier\n",
    "        self.slot_dropout = nn.Dropout(dropout if dropout is not None else self.bert.config[\"hidden_dropout_prob\"])\n",
    "        self.slot_classifier = nn.Linear(self.bert.config['hidden_size'], self.slot_num_labels)\n",
    "\n",
    "        # self.apply(self.init_weights)\n",
    "    def forward(self,\n",
    "                input_ids,\n",
    "                token_type_ids=None):\n",
    "\n",
    "        sequence_output, _ = self.bert(\n",
    "            input_ids,\n",
    "            token_type_ids=token_type_ids)\n",
    "        pooled_output_intent = sequence_output.mean(axis=1)\n",
    "        pooled_output_intent = self.intent_dropout(pooled_output_intent)\n",
    "        intent_logits = self.intent_classifier(pooled_output_intent)\n",
    "        pooled_output_slot = self.intent_dropout(sequence_output)\n",
    "        slot_logits = self.slot_classifier(pooled_output_slot)\n",
    "        return intent_logits,slot_logits"
   ]
  },
  {
   "cell_type": "code",
   "execution_count": 16,
   "id": "3c4328c0-c576-402e-a9c5-811d0d8887db",
   "metadata": {
    "execution": {
     "iopub.execute_input": "2022-07-05T04:05:26.091156Z",
     "iopub.status.busy": "2022-07-05T04:05:26.090838Z",
     "iopub.status.idle": "2022-07-05T04:06:23.222352Z",
     "shell.execute_reply": "2022-07-05T04:06:23.221141Z",
     "shell.execute_reply.started": "2022-07-05T04:05:26.091133Z"
    },
    "scrolled": true,
    "tags": []
   },
   "outputs": [
    {
     "name": "stderr",
     "output_type": "stream",
     "text": [
      "[2022-07-05 12:05:26,094] [    INFO] - Downloading http://bj.bcebos.com/paddlenlp/models/transformers/bert-base-multilingual-uncased.pdparams and saved to /home/aistudio/.paddlenlp/models/bert-base-multilingual-uncased\n",
      "[2022-07-05 12:05:26,097] [    INFO] - Downloading bert-base-multilingual-uncased.pdparams from http://bj.bcebos.com/paddlenlp/models/transformers/bert-base-multilingual-uncased.pdparams\n",
      "100%|██████████| 1.40G/1.40G [00:42<00:00, 35.2MB/s]\n",
      "W0705 12:06:08.921641   547 gpu_context.cc:278] Please NOTE: device: 0, GPU Compute Capability: 7.0, Driver API Version: 11.2, Runtime API Version: 10.1\n",
      "W0705 12:06:08.926193   547 gpu_context.cc:306] device: 0, cuDNN Version: 7.6.\n"
     ]
    }
   ],
   "source": [
    "# 加载模型\n",
    "model = BERTIntentModel.from_pretrained(MODEL_NAME, intent_dim=len(intent2id), slot_dim=len(slot2id), dropout=0.1)"
   ]
  },
  {
   "cell_type": "markdown",
   "id": "5b383540-14fc-4202-a73b-d8c57d3ccaf6",
   "metadata": {},
   "source": [
    "## 3.2 加载模型配置"
   ]
  },
  {
   "cell_type": "code",
   "execution_count": 17,
   "id": "95ccfbd5-9fda-4f78-8959-e7065b453259",
   "metadata": {
    "execution": {
     "iopub.execute_input": "2022-07-05T04:06:23.270741Z",
     "iopub.status.busy": "2022-07-05T04:06:23.270515Z",
     "iopub.status.idle": "2022-07-05T04:06:23.277773Z",
     "shell.execute_reply": "2022-07-05T04:06:23.277114Z",
     "shell.execute_reply.started": "2022-07-05T04:06:23.270720Z"
    },
    "scrolled": true,
    "tags": []
   },
   "outputs": [],
   "source": [
    "# 训练过程中的最大学习率\n",
    "learning_rate = 5e-5\n",
    "# 训练轮次\n",
    "epochs = 10\n",
    "# 学习率预热比例\n",
    "warmup_proportion = 0.1\n",
    "# 权重衰减系数，类似模型正则项策略，避免模型过拟合\n",
    "weight_decay = 0.01\n",
    "max_grad_norm = 1.0\n",
    "\n",
    "num_training_steps = len(intent_train_data_loader) * epochs\n",
    "\n",
    "# 学习率衰减策略\n",
    "lr_scheduler = paddlenlp.transformers.LinearDecayWithWarmup(learning_rate, num_training_steps,warmup_proportion)\n",
    "\n",
    "decay_params = [\n",
    "    p.name for n, p in model.named_parameters()\n",
    "    if not any(nd in n for nd in [\"bias\", \"norm\"])\n",
    "]\n",
    "\n",
    "# 定义优化器\n",
    "optimizer = paddle.optimizer.AdamW(\n",
    "    learning_rate=lr_scheduler,\n",
    "    parameters=model.parameters(),\n",
    "    weight_decay=weight_decay,\n",
    "    apply_decay_param_fun=lambda x: x in decay_params,\n",
    "    grad_clip=paddle.nn.ClipGradByGlobalNorm(max_grad_norm))"
   ]
  },
  {
   "cell_type": "markdown",
   "id": "88754cdb-974e-49b5-bc84-4e8799a16042",
   "metadata": {},
   "source": [
    "## 3.3 模型训练和保存"
   ]
  },
  {
   "cell_type": "code",
   "execution_count": 18,
   "id": "734a89cd-26d0-48c1-9bce-433daea624ff",
   "metadata": {
    "execution": {
     "iopub.execute_input": "2022-07-05T04:06:23.279190Z",
     "iopub.status.busy": "2022-07-05T04:06:23.278890Z",
     "iopub.status.idle": "2022-07-05T04:06:23.292307Z",
     "shell.execute_reply": "2022-07-05T04:06:23.291660Z",
     "shell.execute_reply.started": "2022-07-05T04:06:23.279167Z"
    },
    "scrolled": false,
    "tags": []
   },
   "outputs": [],
   "source": [
    "# 训练结束后，存储模型参数\n",
    "save_dir_curr = \"checkpoint/intent_model\"\n",
    "# 记录训练epoch、损失等值\n",
    "loggiing_print = 50\n",
    "loggiing_eval = 50\n",
    "\n",
    "# 验证部分\n",
    "@paddle.no_grad()\n",
    "def evaluation(model, data_loader):\n",
    "    model.eval()\n",
    "    labels = []\n",
    "    preds = []\n",
    "    slot_acc_count = 0.\n",
    "    for batch in data_loader:\n",
    "        input_ids, token_type_ids, intent_labels, slot_labels = batch\n",
    "        intent_logits, slot_logits = model(input_ids, token_type_ids)\n",
    "\n",
    "        # 计算 slot 预测标签和真实标签\n",
    "        slot_logits = paddle.argmax(slot_logits,axis=2)\n",
    "        length_labels  = [len([i for i in s_slot if i != -100]) for s_slot in slot_labels]\n",
    "        for r,p,l in zip(slot_logits,slot_labels,length_labels):\n",
    "            if ((r[:l]==p[:l]).sum() == l):\n",
    "                slot_acc_count += 1   \n",
    "        # 意图预测标签和真实标签\n",
    "        preds.extend(paddle.argmax(intent_logits,axis=1).numpy())\n",
    "        labels.extend(intent_labels.numpy())\n",
    "    slot_acc = slot_acc_count / intent_validation_dataset.shape[0]\n",
    "    intent_acc = accuracy_score(y_true=labels,y_pred=preds)\n",
    "    return intent_acc,slot_acc\n",
    "\n",
    "# 训练阶段\n",
    "def do_train(model,data_loader):\n",
    "    total_step = len(data_loader) * epochs\n",
    "    intent_model_total_epochs = 0\n",
    "    best_score = 0.\n",
    "    best_intent_acc = 0.\n",
    "    best_slot_acc = 0.\n",
    "    # 训练\n",
    "    print(\"train ...\")\n",
    "    \n",
    "    for epoch in range(0, epochs):\n",
    "        model.train()\n",
    "        this_epoch_training_loss = 0\n",
    "        for step, batch in enumerate(data_loader, start=1):\n",
    "            input_ids, token_type_ids, intent_labels, slot_labels = batch\n",
    "            intent_logits, slot_logits  = model(input_ids, token_type_ids)\n",
    "\n",
    "            intent_loss = F.softmax_with_cross_entropy(intent_logits, intent_labels).mean()\n",
    "            slot_loss = F.cross_entropy(slot_logits, slot_labels,ignore_index=ignore_label).mean()\n",
    "            loss = intent_loss + slot_loss\n",
    "            \n",
    "            loss.backward()\n",
    "            optimizer.step()\n",
    "            lr_scheduler.step()\n",
    "            optimizer.clear_grad()\n",
    "            this_epoch_training_loss += loss.numpy()\n",
    "        \n",
    "            intent_model_total_epochs += 1\n",
    "            if intent_model_total_epochs % loggiing_print == 0:\n",
    "                print(\"step: %d / %d, training loss: %.5f\" % (intent_model_total_epochs, total_step, this_epoch_training_loss/intent_model_total_epochs))\n",
    "        # 验证\n",
    "        eval_intent_score,eval_slot_score = evaluation(model, intent_valid_data_loader)\n",
    "        eval_score = (eval_intent_score + eval_slot_score) / 2\n",
    "        print(\"eval acc: %.5f\" % eval_score)\n",
    "        if best_score  < eval_score:\n",
    "            print(\"Intent ACC update %.5f ---> %.5f Slot ACC update %.5f ---> %.5f Score update %.5f ---> %.5f\" % (best_intent_acc,eval_intent_score,best_slot_acc,eval_slot_score,best_score,eval_score))\n",
    "            best_score  = eval_score\n",
    "            best_intent_acc = eval_intent_score\n",
    "            best_slot_acc = eval_slot_score\n",
    "            # 保存模型\n",
    "            os.makedirs(save_dir_curr,exist_ok=True)\n",
    "            save_param_path = os.path.join(save_dir_curr, 'model_best.pdparams')\n",
    "            paddle.save(model.state_dict(), save_param_path)\n",
    "            # 保存tokenizer\n",
    "            tokenizer.save_pretrained(save_dir_curr)\n",
    "        else:\n",
    "            print(\"but best score %.5f\" %  best_score )"
   ]
  },
  {
   "cell_type": "code",
   "execution_count": 19,
   "id": "50cff9f2-5285-4107-a81f-4b4af741e592",
   "metadata": {
    "execution": {
     "iopub.execute_input": "2022-07-05T04:06:23.293451Z",
     "iopub.status.busy": "2022-07-05T04:06:23.293136Z",
     "iopub.status.idle": "2022-07-05T04:08:46.918939Z",
     "shell.execute_reply": "2022-07-05T04:08:46.918158Z",
     "shell.execute_reply.started": "2022-07-05T04:06:23.293428Z"
    },
    "scrolled": false,
    "tags": []
   },
   "outputs": [
    {
     "name": "stdout",
     "output_type": "stream",
     "text": [
      "train ...\n",
      "step: 50 / 1010, training loss: 2.72450\n",
      "step: 100 / 1010, training loss: 2.20625\n",
      "eval acc: 0.63433\n",
      "Intent ACC update 0.00000 ---> 0.73134 Slot ACC update 0.00000 ---> 0.53731 Score update 0.00000 ---> 0.63433\n"
     ]
    },
    {
     "name": "stderr",
     "output_type": "stream",
     "text": [
      "[2022-07-05 12:06:36,086] [    INFO] - tokenizer config file saved in checkpoint/intent_model/tokenizer_config.json\n",
      "[2022-07-05 12:06:36,089] [    INFO] - Special tokens file saved in checkpoint/intent_model/special_tokens_map.json\n"
     ]
    },
    {
     "name": "stdout",
     "output_type": "stream",
     "text": [
      "step: 150 / 1010, training loss: 0.20322\n",
      "step: 200 / 1010, training loss: 0.26903\n",
      "eval acc: 0.88930\n",
      "Intent ACC update 0.73134 ---> 0.92040 Slot ACC update 0.53731 ---> 0.85821 Score update 0.63433 ---> 0.88930\n"
     ]
    },
    {
     "name": "stderr",
     "output_type": "stream",
     "text": [
      "[2022-07-05 12:06:54,828] [    INFO] - tokenizer config file saved in checkpoint/intent_model/tokenizer_config.json\n",
      "[2022-07-05 12:06:54,832] [    INFO] - Special tokens file saved in checkpoint/intent_model/special_tokens_map.json\n"
     ]
    },
    {
     "name": "stdout",
     "output_type": "stream",
     "text": [
      "step: 250 / 1010, training loss: 0.04183\n",
      "step: 300 / 1010, training loss: 0.08168\n",
      "eval acc: 0.92910\n",
      "Intent ACC update 0.92040 ---> 0.95771 Slot ACC update 0.85821 ---> 0.90050 Score update 0.88930 ---> 0.92910\n"
     ]
    },
    {
     "name": "stderr",
     "output_type": "stream",
     "text": [
      "[2022-07-05 12:07:11,666] [    INFO] - tokenizer config file saved in checkpoint/intent_model/tokenizer_config.json\n",
      "[2022-07-05 12:07:11,669] [    INFO] - Special tokens file saved in checkpoint/intent_model/special_tokens_map.json\n"
     ]
    },
    {
     "name": "stdout",
     "output_type": "stream",
     "text": [
      "step: 350 / 1010, training loss: 0.01419\n",
      "step: 400 / 1010, training loss: 0.04041\n",
      "eval acc: 0.92662\n",
      "but best score 0.92910\n",
      "step: 450 / 1010, training loss: 0.00596\n",
      "step: 500 / 1010, training loss: 0.02239\n",
      "eval acc: 0.94279\n",
      "Intent ACC update 0.95771 ---> 0.95771 Slot ACC update 0.90050 ---> 0.92786 Score update 0.92910 ---> 0.94279\n"
     ]
    },
    {
     "name": "stderr",
     "output_type": "stream",
     "text": [
      "[2022-07-05 12:07:39,937] [    INFO] - tokenizer config file saved in checkpoint/intent_model/tokenizer_config.json\n",
      "[2022-07-05 12:07:39,940] [    INFO] - Special tokens file saved in checkpoint/intent_model/special_tokens_map.json\n"
     ]
    },
    {
     "name": "stdout",
     "output_type": "stream",
     "text": [
      "step: 550 / 1010, training loss: 0.00311\n",
      "step: 600 / 1010, training loss: 0.01359\n",
      "eval acc: 0.96269\n",
      "Intent ACC update 0.95771 ---> 0.98010 Slot ACC update 0.92786 ---> 0.94527 Score update 0.94279 ---> 0.96269\n"
     ]
    },
    {
     "name": "stderr",
     "output_type": "stream",
     "text": [
      "[2022-07-05 12:07:58,019] [    INFO] - tokenizer config file saved in checkpoint/intent_model/tokenizer_config.json\n",
      "[2022-07-05 12:07:58,022] [    INFO] - Special tokens file saved in checkpoint/intent_model/special_tokens_map.json\n"
     ]
    },
    {
     "name": "stdout",
     "output_type": "stream",
     "text": [
      "step: 650 / 1010, training loss: 0.00203\n",
      "step: 700 / 1010, training loss: 0.00976\n",
      "eval acc: 0.96020\n",
      "but best score 0.96269\n",
      "step: 750 / 1010, training loss: 0.00147\n",
      "step: 800 / 1010, training loss: 0.00472\n",
      "eval acc: 0.95771\n",
      "but best score 0.96269\n",
      "step: 850 / 1010, training loss: 0.00082\n",
      "step: 900 / 1010, training loss: 0.00228\n",
      "eval acc: 0.96269\n",
      "but best score 0.96269\n",
      "step: 950 / 1010, training loss: 0.00052\n",
      "step: 1000 / 1010, training loss: 0.00114\n",
      "eval acc: 0.96393\n",
      "Intent ACC update 0.98010 ---> 0.98259 Slot ACC update 0.94527 ---> 0.94527 Score update 0.96269 ---> 0.96393\n"
     ]
    },
    {
     "name": "stderr",
     "output_type": "stream",
     "text": [
      "[2022-07-05 12:08:46,909] [    INFO] - tokenizer config file saved in checkpoint/intent_model/tokenizer_config.json\n",
      "[2022-07-05 12:08:46,912] [    INFO] - Special tokens file saved in checkpoint/intent_model/special_tokens_map.json\n"
     ]
    }
   ],
   "source": [
    "# 训练\n",
    "do_train(model,intent_train_data_loader)"
   ]
  },
  {
   "cell_type": "markdown",
   "id": "f83b1f24-63c4-4113-9f67-a5bf52062f3d",
   "metadata": {},
   "source": [
    "# 4 模型预测"
   ]
  },
  {
   "cell_type": "code",
   "execution_count": 20,
   "id": "5e593d6a-772d-4c35-bfd5-e74efc0d12cd",
   "metadata": {
    "execution": {
     "iopub.execute_input": "2022-07-05T04:08:46.920639Z",
     "iopub.status.busy": "2022-07-05T04:08:46.920260Z",
     "iopub.status.idle": "2022-07-05T04:08:58.028648Z",
     "shell.execute_reply": "2022-07-05T04:08:58.027807Z",
     "shell.execute_reply.started": "2022-07-05T04:08:46.920611Z"
    },
    "scrolled": true,
    "tags": []
   },
   "outputs": [
    {
     "name": "stdout",
     "output_type": "stream",
     "text": [
      "predict start ...\n",
      "predict end ...\n"
     ]
    }
   ],
   "source": [
    "# 预测阶段\n",
    "def do_sample_predict(model,data_loader):\n",
    "    model.eval()\n",
    "    pred_intents = []\n",
    "    pred_slots = []\n",
    "    for batch in data_loader:\n",
    "        input_ids, token_type_ids = batch\n",
    "        intent_logits, slot_logits = model(input_ids, token_type_ids)\n",
    "        pred_intents.extend(paddle.argmax(intent_logits,axis=1).numpy())\n",
    "        slot_logits = paddle.argmax(slot_logits,axis=2)\n",
    "        length_labels  = [len([i for i in i_input  if i != tokenizer.pad_token_id]) for i_input in input_ids]\n",
    "        pred_slots.extend([(s.numpy(),i.numpy(),l) for s,i,l in zip(slot_logits,input_ids,length_labels)])\n",
    "    return pred_intents,pred_slots\n",
    "\n",
    "# 读取最佳模型\n",
    "state_dict = paddle.load(os.path.join(save_dir_curr,'model_best.pdparams'))\n",
    "model.load_dict(state_dict)\n",
    "\n",
    "# 预测\n",
    "print(\"predict start ...\")\n",
    "predict_intent,predict_slot = do_sample_predict(model,intent_test_data_loader)\n",
    "print(\"predict end ...\")"
   ]
  },
  {
   "cell_type": "code",
   "execution_count": 21,
   "id": "bf61d798-3bbf-4934-a015-61d4a1d413ae",
   "metadata": {
    "execution": {
     "iopub.execute_input": "2022-07-05T04:08:58.030399Z",
     "iopub.status.busy": "2022-07-05T04:08:58.029790Z",
     "iopub.status.idle": "2022-07-05T04:08:58.077492Z",
     "shell.execute_reply": "2022-07-05T04:08:58.076717Z",
     "shell.execute_reply.started": "2022-07-05T04:08:58.030372Z"
    },
    "scrolled": false,
    "tags": []
   },
   "outputs": [],
   "source": [
    "# 将意图标签id转换为文本\n",
    "pred_intent =  [id2intent[i] for i in predict_intent]\n",
    "# 将slot标签id转换为文本\n",
    "pred_slots1 = []\n",
    "pred_slots2 = []\n",
    "for idx,sample in enumerate(predict_slot):\n",
    "    slot_label,text_input_ids,length = sample\n",
    "    slot_label = slot_label[1:length-1]\n",
    "    text_input_ids = text_input_ids[1:length-1]\n",
    "    if slot_label.sum() == 0:\n",
    "        pred_slots1.append(np.NAN)\n",
    "        pred_slots2.append(np.NAN)\n",
    "    else:\n",
    "        slot_name = [id2slot[i] for i in slot_label]\n",
    "        slot_dict = {slot:[] for slot in set(slot_name) if slot!='O'}\n",
    "        for word_id,tag in zip(text_input_ids,slot_name):\n",
    "            if tag != 'O':\n",
    "                slot_dict[tag].append(word_id)\n",
    "        for slot in slot_dict.keys():\n",
    "             slot_dict[slot] = tokenizer.convert_tokens_to_string(tokenizer.convert_ids_to_tokens(slot_dict[slot]))\n",
    "        results = [\"{}:{}\".format(k.split(\"-\")[1],v) for k,v in slot_dict.items()]\n",
    "        pred_slots1.append(results[0])\n",
    "        if len(results) > 1:\n",
    "            pred_slots2.append(results[1])\n",
    "        else:\n",
    "            pred_slots2.append(np.NAN)\n",
    "\n",
    "assert len(pred_slots1) == len(pred_slots1)\n",
    "assert len(pred_slots1) == len(pred_intent)\n",
    "assert len(pred_slots2) == len(pred_intent)"
   ]
  },
  {
   "cell_type": "markdown",
   "id": "ce848f1d-ceb5-455f-a3da-0c18ad4696e1",
   "metadata": {},
   "source": [
    "# 5 提交文件"
   ]
  },
  {
   "cell_type": "code",
   "execution_count": 22,
   "id": "f4129b6b-5498-4854-8922-bdd6540e2859",
   "metadata": {
    "execution": {
     "iopub.execute_input": "2022-07-05T04:08:58.085840Z",
     "iopub.status.busy": "2022-07-05T04:08:58.085601Z",
     "iopub.status.idle": "2022-07-05T04:08:59.208271Z",
     "shell.execute_reply": "2022-07-05T04:08:59.207436Z",
     "shell.execute_reply.started": "2022-07-05T04:08:58.085817Z"
    },
    "scrolled": true,
    "tags": []
   },
   "outputs": [
    {
     "name": "stdout",
     "output_type": "stream",
     "text": [
      "英文_testA已保存\n",
      "日语_testA已保存\n",
      "提交文件work/submit_testA.xlsx生成完毕\n"
     ]
    }
   ],
   "source": [
    "# 提交文件名称\n",
    "sumbit_excel_name = \"work/submit_testA.xlsx\"\n",
    "# 生成文件\n",
    "predict_submit = pd.DataFrame([],columns=[\"原始文本\",\"意图\",\"槽值1\",\"槽值2\"])\n",
    "# 原始文本\n",
    "texts = test['原始文本'].tolist()\n",
    "# 导入每条数据\n",
    "for text,intent,slot1,slot2 in zip(texts,pred_intent,pred_slots1,pred_slots2):\n",
    "    predict_submit.loc[len(predict_submit),:] = [text,intent,slot1,slot2]\n",
    "# 分割英文和日语两个文件\n",
    "sumbit_en = predict_submit.loc[:test_en.shape[0]-1,:]\n",
    "sumbit_japan = predict_submit.loc[test_en.shape[0]:,:]\n",
    "# 创建词典保存sheet数据\n",
    "sheet_names = ['英文_testA','日语_testA']\n",
    "report_dict = {'英文_testA':sumbit_en,'日语_testA':sumbit_japan}\n",
    "# 创建ExcelWriter文件读写，根据sheet_name保存文件\n",
    "writer = pd.ExcelWriter(sumbit_excel_name, engine='openpyxl')\n",
    "for sheet_name in sheet_names:\n",
    "    report_dict[sheet_name].to_excel(excel_writer=writer, sheet_name=sheet_name, encoding=\"utf-8\",index=False)\n",
    "    print(f\"{sheet_name}已保存\")\n",
    "writer.save()\n",
    "writer.close()\n",
    "print(f\"提交文件{sumbit_excel_name}生成完毕\")"
   ]
  },
  {
   "cell_type": "markdown",
   "id": "3c3e7648-8f89-4e48-9b40-71a64c75d161",
   "metadata": {},
   "source": [
    "# 6 baseline1结果\n",
    "\n",
    "虽然固定了seed，但不知道为什么每次RUN后得到结果不一致，结果可能会有波动,分数在0.75左右\n",
    "\n",
    "|Model|线下|线上|\n",
    "|---|---|---|\n",
    "|bert-base-multilingual-cased|0.95771|0.74961|\n",
    "|bert-base-multilingual-uncased|0.96269|0.75622|"
   ]
  }
 ],
 "metadata": {
  "kernelspec": {
   "display_name": "Python 3",
   "language": "python",
   "name": "py35-paddle1.2.0"
  },
  "language_info": {
   "codemirror_mode": {
    "name": "ipython",
    "version": 3
   },
   "file_extension": ".py",
   "mimetype": "text/x-python",
   "name": "python",
   "nbconvert_exporter": "python",
   "pygments_lexer": "ipython3",
   "version": "3.7.4"
  },
  "toc-autonumbering": false,
  "toc-showcode": false,
  "toc-showmarkdowntxt": false,
  "toc-showtags": false
 },
 "nbformat": 4,
 "nbformat_minor": 5
}

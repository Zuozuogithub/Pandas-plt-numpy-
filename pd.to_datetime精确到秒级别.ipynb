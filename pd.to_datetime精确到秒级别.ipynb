{
 "cells": [
  {
   "cell_type": "code",
   "execution_count": 1,
   "metadata": {},
   "outputs": [],
   "source": [
    "import time\n",
    "import pandas as pd\n"
   ]
  },
  {
   "cell_type": "markdown",
   "metadata": {},
   "source": [
    "#实际中遇到的日期类型 经常有‘2018-09-08-17:45:23’这种类型 ，如何进行加减乘除运算呢？"
   ]
  },
  {
   "cell_type": "code",
   "execution_count": 5,
   "metadata": {},
   "outputs": [],
   "source": [
    "?pd.to_datetime"
   ]
  },
  {
   "cell_type": "markdown",
   "metadata": {},
   "source": [
    "#我们先将csv，dataframe 的object的数据类型转化成datetime64，再使用pd.to_datetime进行操作"
   ]
  },
  {
   "cell_type": "markdown",
   "metadata": {},
   "source": [
    "#for eample："
   ]
  },
  {
   "cell_type": "code",
   "execution_count": 6,
   "metadata": {},
   "outputs": [
    {
     "data": {
      "text/plain": [
       "0   2015-02-04 02:04:05\n",
       "1   2016-03-05 03:06:06\n",
       "dtype: datetime64[ns]"
      ]
     },
     "execution_count": 6,
     "metadata": {},
     "output_type": "execute_result"
    }
   ],
   "source": [
    "df = pd.DataFrame({'year': [2015, 2016],\n",
    "                       'month': [2, 3],\n",
    "                       'day': [4, 5],\n",
    "                        'hour':[2,3],\n",
    "                         'minute':[4,6],\n",
    "                         'second':[5,6]})\n",
    "\n",
    "df = pd.to_datetime(df)\n",
    "df"
   ]
  },
  {
   "cell_type": "code",
   "execution_count": 7,
   "metadata": {},
   "outputs": [
    {
     "data": {
      "text/plain": [
       "0    1.422987e+09\n",
       "1    1.457118e+09\n",
       "dtype: float64"
      ]
     },
     "execution_count": 7,
     "metadata": {},
     "output_type": "execute_result"
    }
   ],
   "source": [
    "df = df.apply(lambda x:time.mktime(x.timetuple()))  #将时间类型转化成时间戳形式\n",
    "df"
   ]
  },
  {
   "cell_type": "code",
   "execution_count": 8,
   "metadata": {},
   "outputs": [
    {
     "data": {
      "text/plain": [
       "0    2015-02-04 02:04:05\n",
       "1    2016-03-05 03:06:06\n",
       "3               34131721\n",
       "dtype: object"
      ]
     },
     "execution_count": 8,
     "metadata": {},
     "output_type": "execute_result"
    }
   ],
   "source": [
    "cc = pd.to_datetime(df.loc[1]) - pd.to_datetime(df.loc[0])  #进行相减操作\n",
    "\n",
    "#df = pd.to_datetime(df)  #将时间戳转化为日期格式\n",
    "df = df.apply(lambda x:time.strftime('%Y-%m-%d %H:%M:%S',time.localtime(x)))   #这一种也可以 2015-02-04 02:04:05\n",
    "df['3'] = cc \n",
    "df"
   ]
  },
  {
   "cell_type": "code",
   "execution_count": 9,
   "metadata": {},
   "outputs": [
    {
     "data": {
      "text/plain": [
       "0   2015-02-04 02:04:05\n",
       "1   2016-03-05 03:06:06\n",
       "dtype: datetime64[ns]"
      ]
     },
     "execution_count": 9,
     "metadata": {},
     "output_type": "execute_result"
    }
   ],
   "source": [
    "#最后如果想把df['3']也变成day：hour：minute：second 我们可以直接这样操作\n",
    "df = pd.DataFrame({'year': [2015, 2016],\n",
    "                       'month': [2, 3],\n",
    "                       'day': [4, 5],\n",
    "                        'hour':[2,3],\n",
    "                         'minute':[4,6],\n",
    "                         'second':[5,6]})\n",
    "\n",
    "df = pd.to_datetime(df)\n",
    "df"
   ]
  },
  {
   "cell_type": "code",
   "execution_count": 11,
   "metadata": {},
   "outputs": [
    {
     "data": {
      "text/plain": [
       "0    2015-02-04 02:04:05\n",
       "1    2016-03-05 03:06:06\n",
       "3      395 days 01:02:01\n",
       "dtype: object"
      ]
     },
     "execution_count": 11,
     "metadata": {},
     "output_type": "execute_result"
    }
   ],
   "source": [
    "df['3'] = pd.to_datetime(df.loc[1],format ='%Y-%m-%d %H:%M:%S',unit = 's' ) - pd.to_datetime(df.loc[0],format ='%Y-%m-%d %H:%M:%S',unit = 's')  #进行相减操作\n",
    "df"
   ]
  },
  {
   "cell_type": "markdown",
   "metadata": {},
   "source": [
    "# 具体案例分析"
   ]
  },
  {
   "cell_type": "code",
   "execution_count": 2,
   "metadata": {},
   "outputs": [
    {
     "data": {
      "text/html": [
       "<div>\n",
       "<style scoped>\n",
       "    .dataframe tbody tr th:only-of-type {\n",
       "        vertical-align: middle;\n",
       "    }\n",
       "\n",
       "    .dataframe tbody tr th {\n",
       "        vertical-align: top;\n",
       "    }\n",
       "\n",
       "    .dataframe thead th {\n",
       "        text-align: right;\n",
       "    }\n",
       "</style>\n",
       "<table border=\"1\" class=\"dataframe\">\n",
       "  <thead>\n",
       "    <tr style=\"text-align: right;\">\n",
       "      <th></th>\n",
       "      <th>入口网络编号</th>\n",
       "      <th>入口站编号</th>\n",
       "      <th>入口日期及时间</th>\n",
       "      <th>出口网络编号</th>\n",
       "      <th>出口站编号</th>\n",
       "      <th>出口日期及时间</th>\n",
       "      <th>出口车道编号</th>\n",
       "      <th>车型代码</th>\n",
       "      <th>车种代码</th>\n",
       "      <th>里程</th>\n",
       "      <th>...</th>\n",
       "      <th>车货总重</th>\n",
       "      <th>限重</th>\n",
       "      <th>超限率</th>\n",
       "      <th>是否绿色通道车辆代码</th>\n",
       "      <th>免费类型代码</th>\n",
       "      <th>路径标识</th>\n",
       "      <th>是否ETC车道代码</th>\n",
       "      <th>ETC车辆电子标签OBU编号</th>\n",
       "      <th>支付方式代码</th>\n",
       "      <th>车牌号</th>\n",
       "    </tr>\n",
       "  </thead>\n",
       "  <tbody>\n",
       "    <tr>\n",
       "      <th>0</th>\n",
       "      <td>5201</td>\n",
       "      <td>10753</td>\n",
       "      <td>2016-01-11 16:18:18</td>\n",
       "      <td>5201</td>\n",
       "      <td>9217</td>\n",
       "      <td>2016-01-11 17:37:02</td>\n",
       "      <td>82</td>\n",
       "      <td>1</td>\n",
       "      <td>0</td>\n",
       "      <td>118.189</td>\n",
       "      <td>...</td>\n",
       "      <td>1450</td>\n",
       "      <td>14000</td>\n",
       "      <td>-89.64</td>\n",
       "      <td>0</td>\n",
       "      <td>0</td>\n",
       "      <td>NaN</td>\n",
       "      <td>0</td>\n",
       "      <td>0</td>\n",
       "      <td>0</td>\n",
       "      <td>贵H75495</td>\n",
       "    </tr>\n",
       "    <tr>\n",
       "      <th>1</th>\n",
       "      <td>5201</td>\n",
       "      <td>8973</td>\n",
       "      <td>2016-01-11 16:50:09</td>\n",
       "      <td>5201</td>\n",
       "      <td>8970</td>\n",
       "      <td>2016-01-11 17:30:23</td>\n",
       "      <td>84</td>\n",
       "      <td>1</td>\n",
       "      <td>0</td>\n",
       "      <td>64.143</td>\n",
       "      <td>...</td>\n",
       "      <td>1450</td>\n",
       "      <td>14000</td>\n",
       "      <td>-89.64</td>\n",
       "      <td>0</td>\n",
       "      <td>0</td>\n",
       "      <td>NaN</td>\n",
       "      <td>0</td>\n",
       "      <td>0</td>\n",
       "      <td>0</td>\n",
       "      <td>贵J31588</td>\n",
       "    </tr>\n",
       "    <tr>\n",
       "      <th>2</th>\n",
       "      <td>5201</td>\n",
       "      <td>5123</td>\n",
       "      <td>2016-01-11 15:23:22</td>\n",
       "      <td>5201</td>\n",
       "      <td>8970</td>\n",
       "      <td>2016-01-11 17:31:30</td>\n",
       "      <td>84</td>\n",
       "      <td>14</td>\n",
       "      <td>1</td>\n",
       "      <td>113.067</td>\n",
       "      <td>...</td>\n",
       "      <td>37900</td>\n",
       "      <td>32000</td>\n",
       "      <td>18.44</td>\n",
       "      <td>0</td>\n",
       "      <td>0</td>\n",
       "      <td>NaN</td>\n",
       "      <td>0</td>\n",
       "      <td>0</td>\n",
       "      <td>0</td>\n",
       "      <td>贵J92622</td>\n",
       "    </tr>\n",
       "    <tr>\n",
       "      <th>3</th>\n",
       "      <td>5201</td>\n",
       "      <td>8968</td>\n",
       "      <td>2016-01-11 16:58:25</td>\n",
       "      <td>5201</td>\n",
       "      <td>8970</td>\n",
       "      <td>2016-01-11 17:31:14</td>\n",
       "      <td>83</td>\n",
       "      <td>1</td>\n",
       "      <td>0</td>\n",
       "      <td>54.720</td>\n",
       "      <td>...</td>\n",
       "      <td>1750</td>\n",
       "      <td>14000</td>\n",
       "      <td>-87.50</td>\n",
       "      <td>0</td>\n",
       "      <td>0</td>\n",
       "      <td>NaN</td>\n",
       "      <td>0</td>\n",
       "      <td>0</td>\n",
       "      <td>0</td>\n",
       "      <td>贵J12865</td>\n",
       "    </tr>\n",
       "    <tr>\n",
       "      <th>4</th>\n",
       "      <td>5201</td>\n",
       "      <td>8968</td>\n",
       "      <td>2016-01-11 16:55:18</td>\n",
       "      <td>5201</td>\n",
       "      <td>8970</td>\n",
       "      <td>2016-01-11 17:31:46</td>\n",
       "      <td>83</td>\n",
       "      <td>1</td>\n",
       "      <td>0</td>\n",
       "      <td>54.720</td>\n",
       "      <td>...</td>\n",
       "      <td>1400</td>\n",
       "      <td>14000</td>\n",
       "      <td>-90.00</td>\n",
       "      <td>0</td>\n",
       "      <td>0</td>\n",
       "      <td>NaN</td>\n",
       "      <td>0</td>\n",
       "      <td>0</td>\n",
       "      <td>0</td>\n",
       "      <td>贵J48408</td>\n",
       "    </tr>\n",
       "  </tbody>\n",
       "</table>\n",
       "<p>5 rows × 22 columns</p>\n",
       "</div>"
      ],
      "text/plain": [
       "   入口网络编号  入口站编号              入口日期及时间  出口网络编号  出口站编号              出口日期及时间  \\\n",
       "0    5201  10753  2016-01-11 16:18:18    5201   9217  2016-01-11 17:37:02   \n",
       "1    5201   8973  2016-01-11 16:50:09    5201   8970  2016-01-11 17:30:23   \n",
       "2    5201   5123  2016-01-11 15:23:22    5201   8970  2016-01-11 17:31:30   \n",
       "3    5201   8968  2016-01-11 16:58:25    5201   8970  2016-01-11 17:31:14   \n",
       "4    5201   8968  2016-01-11 16:55:18    5201   8970  2016-01-11 17:31:46   \n",
       "\n",
       "   出口车道编号  车型代码  车种代码       里程   ...      车货总重     限重    超限率  是否绿色通道车辆代码  \\\n",
       "0      82     1     0  118.189   ...      1450  14000 -89.64           0   \n",
       "1      84     1     0   64.143   ...      1450  14000 -89.64           0   \n",
       "2      84    14     1  113.067   ...     37900  32000  18.44           0   \n",
       "3      83     1     0   54.720   ...      1750  14000 -87.50           0   \n",
       "4      83     1     0   54.720   ...      1400  14000 -90.00           0   \n",
       "\n",
       "   免费类型代码  路径标识  是否ETC车道代码  ETC车辆电子标签OBU编号  支付方式代码      车牌号  \n",
       "0       0   NaN          0               0       0  贵H75495  \n",
       "1       0   NaN          0               0       0  贵J31588  \n",
       "2       0   NaN          0               0       0  贵J92622  \n",
       "3       0   NaN          0               0       0  贵J12865  \n",
       "4       0   NaN          0               0       0  贵J48408  \n",
       "\n",
       "[5 rows x 22 columns]"
      ]
     },
     "execution_count": 2,
     "metadata": {},
     "output_type": "execute_result"
    }
   ],
   "source": [
    "df = pd.read_csv('201601.csv')\n",
    "df[:5]"
   ]
  },
  {
   "cell_type": "markdown",
   "metadata": {},
   "source": [
    "我们要做一个出口减入入口的时间，并且插入新的列，这时候需要用apply广播一下，然后对每一列进行转datetime操作，最后进行相减，代码如下："
   ]
  },
  {
   "cell_type": "code",
   "execution_count": 3,
   "metadata": {},
   "outputs": [
    {
     "data": {
      "text/plain": [
       "0   01:18:44\n",
       "1   00:40:14\n",
       "2   02:08:08\n",
       "3   00:32:49\n",
       "4   00:36:28\n",
       "Name: 差值, dtype: timedelta64[ns]"
      ]
     },
     "execution_count": 3,
     "metadata": {},
     "output_type": "execute_result"
    }
   ],
   "source": [
    "df['差值'] = df.apply(lambda row: pd.to_datetime(row['出口日期及时间'])- pd.to_datetime(row['入口日期及时间']),axis =1)\n",
    "df['差值'][:5]"
   ]
  },
  {
   "cell_type": "code",
   "execution_count": null,
   "metadata": {},
   "outputs": [],
   "source": []
  }
 ],
 "metadata": {
  "kernelspec": {
   "display_name": "Python 3",
   "language": "python",
   "name": "python3"
  },
  "language_info": {
   "codemirror_mode": {
    "name": "ipython",
    "version": 3
   },
   "file_extension": ".py",
   "mimetype": "text/x-python",
   "name": "python",
   "nbconvert_exporter": "python",
   "pygments_lexer": "ipython3",
   "version": "3.6.5"
  }
 },
 "nbformat": 4,
 "nbformat_minor": 2
}
